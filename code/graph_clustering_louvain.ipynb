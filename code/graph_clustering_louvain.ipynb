{
 "cells": [
  {
   "attachments": {},
   "cell_type": "markdown",
   "id": "c5e6b615",
   "metadata": {},
   "source": [
    "# Graph clustering using the Louvain algorithm"
   ]
  },
  {
   "cell_type": "code",
   "execution_count": 1,
   "id": "aca3678e",
   "metadata": {},
   "outputs": [],
   "source": [
    "import pickle\n",
    "import networkx as nx\n",
    "import numpy as np"
   ]
  },
  {
   "cell_type": "code",
   "execution_count": 2,
   "id": "0e611e75",
   "metadata": {},
   "outputs": [],
   "source": [
    "# Set the random seed for reproducibility\n",
    "import numpy as np\n",
    "np.random.seed(42)\n",
    "# Set the seed in python\n",
    "import random\n",
    "random.seed(42)"
   ]
  },
  {
   "cell_type": "code",
   "execution_count": 3,
   "id": "4a557227",
   "metadata": {},
   "outputs": [],
   "source": [
    "graph = pickle.load(open('../data/filtered_graph.pickle','rb'))"
   ]
  },
  {
   "cell_type": "code",
   "execution_count": 4,
   "id": "9eef745c",
   "metadata": {},
   "outputs": [],
   "source": [
    "gene_id_to_name = pickle.load(open('../data/gene_id_to_name.pickle','rb'))\n",
    "protein_id_to_name = pickle.load(open('../data/protein_id_to_name.pickle','rb'))"
   ]
  },
  {
   "attachments": {},
   "cell_type": "markdown",
   "id": "f1e048f0",
   "metadata": {},
   "source": [
    "## Louvain Clustering"
   ]
  },
  {
   "cell_type": "code",
   "execution_count": 5,
   "id": "8b2d2b51",
   "metadata": {},
   "outputs": [],
   "source": [
    "# Cluster the graph using the Louvain method\n",
    "from networkx.algorithms.community import louvain_communities, greedy_modularity_communities\n",
    "communities = greedy_modularity_communities(graph, weight=None, resolution=1.5)"
   ]
  },
  {
   "cell_type": "code",
   "execution_count": 6,
   "id": "978b4dc5",
   "metadata": {},
   "outputs": [
    {
     "data": {
      "text/plain": [
       "18"
      ]
     },
     "execution_count": 6,
     "metadata": {},
     "output_type": "execute_result"
    }
   ],
   "source": [
    "len(communities)"
   ]
  },
  {
   "cell_type": "markdown",
   "id": "f38531ab",
   "metadata": {},
   "source": [
    "## Calculate enrichment of genes in each cluster in the network"
   ]
  },
  {
   "cell_type": "code",
   "execution_count": 7,
   "id": "9665363c",
   "metadata": {},
   "outputs": [],
   "source": [
    "from pprint import pprint\n",
    "import json\n",
    "import requests"
   ]
  },
  {
   "cell_type": "code",
   "execution_count": 8,
   "id": "a0c61f6a",
   "metadata": {},
   "outputs": [],
   "source": [
    "go_names = pickle.load(open('../data/go_bio_process_2021_names.pickle','rb'))"
   ]
  },
  {
   "cell_type": "code",
   "execution_count": 9,
   "id": "1995ee99",
   "metadata": {},
   "outputs": [
    {
     "data": {
      "text/plain": [
       "14937"
      ]
     },
     "execution_count": 9,
     "metadata": {},
     "output_type": "execute_result"
    }
   ],
   "source": [
    "len(go_names)"
   ]
  },
  {
   "cell_type": "code",
   "execution_count": 10,
   "id": "f2fd906d",
   "metadata": {},
   "outputs": [],
   "source": [
    "def query_enrichr(names, gene_set_library):\n",
    "    ENRICHR_URL = 'https://maayanlab.cloud/Enrichr/addList'\n",
    "    genes_str = '\\n'.join(names)\n",
    "    description = 'Example gene list'\n",
    "    payload = {\n",
    "        'list': (None, genes_str),\n",
    "        'description': (None, description)\n",
    "    }\n",
    "\n",
    "    response = requests.post(ENRICHR_URL, files=payload)\n",
    "    if not response.ok:\n",
    "        print(response)\n",
    "        raise Exception('Error analyzing gene list')\n",
    "\n",
    "    data = json.loads(response.text)\n",
    "#     print(data)\n",
    "\n",
    "    ENRICHR_URL = 'https://maayanlab.cloud/Enrichr/enrich'\n",
    "    query_string = '?userListId=%s&backgroundType=%s'\n",
    "    user_list_id = data['userListId']\n",
    "    response = requests.get(\n",
    "        ENRICHR_URL + query_string % (user_list_id, gene_set_library)\n",
    "     )\n",
    "    if not response.ok:\n",
    "        raise Exception('Error fetching enrichment results')\n",
    "    return json.loads(response.content)"
   ]
  },
  {
   "cell_type": "code",
   "execution_count": 11,
   "id": "a301f6a0",
   "metadata": {},
   "outputs": [],
   "source": [
    "def print_enrichment(response, gene_set_library, threshold=.01, pos_filter_words=None, neg_filter_words=None, n=None):\n",
    "    if n is None:\n",
    "        n = len(response[gene_set_library])\n",
    "    \n",
    "    for i,enr in enumerate(response[gene_set_library][:n]):\n",
    "        pvalue = float(enr[6])\n",
    "        term = enr[1]\n",
    "        match=False\n",
    "        if pvalue < threshold:\n",
    "            if pos_filter_words:\n",
    "                if any([word in term for word in pos_filter_words]):\n",
    "                    match=True\n",
    "            else:\n",
    "                match=True\n",
    "            if neg_filter_words:\n",
    "                if any([word in term for word in neg_filter_words]):\n",
    "                    match=False\n",
    "            else:\n",
    "                match=True\n",
    "                    \n",
    "        if match:\n",
    "            for j in [1, 6]:\n",
    "                print(headers[j], enr[j])\n",
    "            print(', '.join(enr[5]))\n",
    "            print('-')"
   ]
  },
  {
   "cell_type": "code",
   "execution_count": 12,
   "id": "45680f82",
   "metadata": {},
   "outputs": [],
   "source": [
    "gene_set_library = 'GO_Biological_Process_2021'"
   ]
  },
  {
   "cell_type": "code",
   "execution_count": 13,
   "id": "1a1de863",
   "metadata": {},
   "outputs": [],
   "source": [
    "headers = ['Rank', 'Term name', 'P-value', 'Z-score', 'Combined score', 'Overlapping genes', \n",
    "           'Adjusted p-value', 'Old p-value', 'Old adjusted p-value']"
   ]
  },
  {
   "cell_type": "code",
   "execution_count": 14,
   "id": "04d6c041",
   "metadata": {},
   "outputs": [],
   "source": [
    "protein_id_to_name = pickle.load(open('../data/protein_id_to_name.pickle','rb'))"
   ]
  },
  {
   "cell_type": "code",
   "execution_count": 15,
   "id": "7d0e44f1",
   "metadata": {},
   "outputs": [],
   "source": [
    "protein_id_to_synonyms = pickle.load(open('../data/protein_id_to_synonyms.pickle','rb'))"
   ]
  },
  {
   "cell_type": "code",
   "execution_count": 16,
   "id": "bbf66c8f",
   "metadata": {},
   "outputs": [
    {
     "name": "stdout",
     "output_type": "stream",
     "text": [
      "251 266 0 15\n"
     ]
    }
   ],
   "source": [
    "responses = []\n",
    "i=0\n",
    "matched = 0\n",
    "total = 0\n",
    "no_protein = []\n",
    "not_in_go = []\n",
    "for genes in communities:\n",
    "    # Get the names of the genes in the community\n",
    "    gene_names = []\n",
    "    for gene in genes:\n",
    "        total+=1\n",
    "        matched_to_go = False\n",
    "        # print(i, gene)\n",
    "        if gene in protein_id_to_synonyms:\n",
    "            for name in protein_id_to_synonyms[gene]:\n",
    "                if name in go_names and not matched_to_go:\n",
    "                    # print(i, gene, name)\n",
    "                    gene_names.append(name)\n",
    "                    matched+=1\n",
    "                    matched_to_go = True\n",
    "            if not matched_to_go:    \n",
    "                not_in_go.append((gene, protein_id_to_name[gene]))\n",
    "        else:\n",
    "            no_protein.append(gene)\n",
    "    # Wait for one second to avoid overloading the server\n",
    "    import time\n",
    "    time.sleep(1)\n",
    "    # Query Enrichr\n",
    "    response = query_enrichr(gene_names, gene_set_library)\n",
    "    responses.append((i, response))\n",
    "    i+=1\n",
    "print(matched, total, len(no_protein), len(not_in_go))\n",
    "    "
   ]
  },
  {
   "cell_type": "code",
   "execution_count": 17,
   "id": "37b1637a",
   "metadata": {},
   "outputs": [],
   "source": [
    "# for p in not_in_go: print(p)"
   ]
  },
  {
   "cell_type": "code",
   "execution_count": 18,
   "id": "7ad706aa",
   "metadata": {},
   "outputs": [],
   "source": [
    "positive_words = ['differentiation', 'development', 'signal', 'matrix', 'organization', 'proliferation', 'stem', 'pathway', 'morpho', 'mesoderm', 'endoderm', 'different', 'specification']\n",
    "negative_words = ['transcription']"
   ]
  },
  {
   "cell_type": "code",
   "execution_count": 19,
   "id": "b4d8d8d2",
   "metadata": {
    "scrolled": true
   },
   "outputs": [
    {
     "name": "stdout",
     "output_type": "stream",
     "text": [
      "------------------------------------\n",
      "Cluster 0\n",
      "------------------------------------\n",
      "Term name transmembrane receptor protein tyrosine kinase signaling pathway (GO:0007169)\n",
      "Adjusted p-value 1.332582699171592e-09\n",
      "KLB, NRP1, ANGPT1, FLT4, KIT, ERBB2, GRB10, TEK, GFRA2, FGFR1\n",
      "-\n",
      "Term name positive regulation of MAPK cascade (GO:0043410)\n",
      "Adjusted p-value 3.081716261592206e-08\n",
      "NRP1, ANGPT1, FLT4, KIT, ERBB2, SPRY2, TEK, FGFR1\n",
      "-\n",
      "Term name positive regulation of protein kinase B signaling (GO:0051897)\n",
      "Adjusted p-value 3.081716261592206e-08\n",
      "KLB, ANGPT1, KIT, ERBB2, SPRY2, TEK, FGFR1\n",
      "-\n",
      "------------------------------------\n",
      "Cluster 1\n",
      "------------------------------------\n",
      "------------------------------------\n",
      "Cluster 2\n",
      "------------------------------------\n",
      "------------------------------------\n",
      "Cluster 3\n",
      "------------------------------------\n",
      "Term name intermediate filament organization (GO:0045109)\n",
      "Adjusted p-value 0.00012924190186771911\n",
      "DES, NEFL, VIM\n",
      "-\n",
      "Term name sprouting angiogenesis (GO:0002040)\n",
      "Adjusted p-value 0.00148614470918126\n",
      "RSPO3, SLIT2, DLL1\n",
      "-\n",
      "Term name marginal zone B cell differentiation (GO:0002315)\n",
      "Adjusted p-value 0.00148614470918126\n",
      "NOTCH2, DLL1\n",
      "-\n",
      "------------------------------------\n",
      "Cluster 4\n",
      "------------------------------------\n",
      "------------------------------------\n",
      "Cluster 5\n",
      "------------------------------------\n",
      "Term name eye development (GO:0001654)\n",
      "Adjusted p-value 1.1924584716322665e-07\n",
      "WT1, SIX3, PAX6, PBX1, PAX2\n",
      "-\n",
      "------------------------------------\n",
      "Cluster 6\n",
      "------------------------------------\n",
      "Term name extracellular structure organization (GO:0043062)\n",
      "Adjusted p-value 0.00022039778518954755\n",
      "ITGA4, ITGA3, ITGB3, ITGA2B, ITGA9\n",
      "-\n",
      "Term name external encapsulating structure organization (GO:0045229)\n",
      "Adjusted p-value 0.00022039778518954755\n",
      "ITGA4, ITGA3, ITGB3, ITGA2B, ITGA9\n",
      "-\n",
      "Term name extracellular matrix organization (GO:0030198)\n",
      "Adjusted p-value 0.0007183997494922912\n",
      "ITGA4, ITGA3, ITGB3, ITGA2B, ITGA9\n",
      "-\n",
      "------------------------------------\n",
      "Cluster 7\n",
      "------------------------------------\n",
      "Term name circulatory system development (GO:0072359)\n",
      "Adjusted p-value 6.346918994998025e-06\n",
      "FOXC2, FOXC1, NOTCH1, FOXF1, SOX9\n",
      "-\n",
      "------------------------------------\n",
      "Cluster 8\n",
      "------------------------------------\n",
      "Term name mesoderm morphogenesis (GO:0048332)\n",
      "Adjusted p-value 4.0008422344085875e-09\n",
      "EOMES, MESP2, MESP1, MSGN1\n",
      "-\n",
      "------------------------------------\n",
      "Cluster 9\n",
      "------------------------------------\n",
      "------------------------------------\n",
      "Cluster 10\n",
      "------------------------------------\n",
      "------------------------------------\n",
      "Cluster 11\n",
      "------------------------------------\n",
      "Term name extracellular matrix organization (GO:0030198)\n",
      "Adjusted p-value 1.8814630871385333e-13\n",
      "SCUBE3, VTN, MMP25, COL4A2, COL5A1, MMP15, MMP2, SERPINH1, A2M\n",
      "-\n",
      "Term name extracellular structure organization (GO:0043062)\n",
      "Adjusted p-value 2.3076308353718037e-08\n",
      "VTN, MMP25, COL4A2, COL5A1, MMP15, MMP2\n",
      "-\n",
      "Term name external encapsulating structure organization (GO:0045229)\n",
      "Adjusted p-value 2.3076308353718037e-08\n",
      "VTN, MMP25, COL4A2, COL5A1, MMP15, MMP2\n",
      "-\n",
      "------------------------------------\n",
      "Cluster 12\n",
      "------------------------------------\n",
      "Term name Wnt signaling pathway (GO:0016055)\n",
      "Adjusted p-value 8.666437552362324e-12\n",
      "WNT6, FZD5, WNT3A, WNT8A, WNT3, WLS, WNT4\n",
      "-\n",
      "Term name canonical Wnt signaling pathway (GO:0060070)\n",
      "Adjusted p-value 1.8090883574815282e-10\n",
      "WNT6, FZD5, WNT3A, WNT8A, WNT3, WNT4\n",
      "-\n",
      "Term name neuron differentiation (GO:0030182)\n",
      "Adjusted p-value 3.569219910575395e-08\n",
      "WNT6, FZD5, WNT3A, WNT8A, WNT3, WNT4\n",
      "-\n",
      "------------------------------------\n",
      "Cluster 13\n",
      "------------------------------------\n",
      "Term name regulation of kinase activity (GO:0043549)\n",
      "Adjusted p-value 4.59308802028962e-05\n",
      "PDGFRB, SLC9A3R1, EPHA1, EPHA2\n",
      "-\n",
      "Term name regulation of protein kinase B signaling (GO:0051896)\n",
      "Adjusted p-value 0.0005420866164858235\n",
      "PDGFRB, SLC9A3R1, IRS1, EPHA2\n",
      "-\n",
      "Term name regulation of protein kinase activity (GO:0045859)\n",
      "Adjusted p-value 0.0022451733124449857\n",
      "SLC9A3R1, SFN, EPHA1\n",
      "-\n",
      "------------------------------------\n",
      "Cluster 14\n",
      "------------------------------------\n",
      "Term name regulation of epithelial to mesenchymal transition involved in endocardial cushion formation (GO:1905005)\n",
      "Adjusted p-value 0.0007125670910447241\n",
      "TGFB3, TGFBR2\n",
      "-\n",
      "Term name secondary palate development (GO:0062009)\n",
      "Adjusted p-value 0.0011565477727003427\n",
      "TGFB3, TGFBR2\n",
      "-\n",
      "Term name positive regulation of epithelial to mesenchymal transition (GO:0010718)\n",
      "Adjusted p-value 0.007254544099195087\n",
      "TGFB3, TGFBR2\n",
      "-\n",
      "------------------------------------\n",
      "Cluster 15\n",
      "------------------------------------\n",
      "------------------------------------\n",
      "Cluster 16\n",
      "------------------------------------\n",
      "Term name extracellular matrix organization (GO:0030198)\n",
      "Adjusted p-value 3.609330926617375e-08\n",
      "FGB, LAMA1, FGG, PLG, NID1, HSPG2\n",
      "-\n",
      "Term name extracellular structure organization (GO:0043062)\n",
      "Adjusted p-value 3.1842436928547317e-07\n",
      "FGB, LAMA1, FGG, NID1, HSPG2\n",
      "-\n",
      "Term name external encapsulating structure organization (GO:0045229)\n",
      "Adjusted p-value 3.1842436928547317e-07\n",
      "FGB, LAMA1, FGG, NID1, HSPG2\n",
      "-\n",
      "------------------------------------\n",
      "Cluster 17\n",
      "------------------------------------\n",
      "Term name cortical cytoskeleton organization (GO:0030865)\n",
      "Adjusted p-value 1.034946823413653e-05\n",
      "RND2, RND3, RHOB\n",
      "-\n",
      "Term name regulation of actin filament-based process (GO:0032970)\n",
      "Adjusted p-value 3.008413386158029e-05\n",
      "RND2, RND3, RHOB\n",
      "-\n",
      "Term name regulation of actin cytoskeleton organization (GO:0032956)\n",
      "Adjusted p-value 3.909563832320799e-05\n",
      "RND2, RND3, RHOB\n",
      "-\n"
     ]
    }
   ],
   "source": [
    "for block_id, response in responses:\n",
    "    print(\"------------------------------------\")\n",
    "    print(\"Cluster\", block_id)\n",
    "    print(\"------------------------------------\")    \n",
    "    print_enrichment(response, gene_set_library, pos_filter_words=[], neg_filter_words=negative_words, n=3)"
   ]
  },
  {
   "attachments": {},
   "cell_type": "markdown",
   "id": "a518ea96",
   "metadata": {},
   "source": [
    "## Export nodes with cluster assignments"
   ]
  },
  {
   "cell_type": "code",
   "execution_count": 20,
   "id": "825cd984",
   "metadata": {},
   "outputs": [],
   "source": [
    "pickle.dump(communities, open('../data/louvain_clusters.pickle','wb'))"
   ]
  },
  {
   "cell_type": "markdown",
   "id": "dad457fb",
   "metadata": {},
   "source": [
    "## Export enrichments as pickle"
   ]
  },
  {
   "cell_type": "code",
   "execution_count": 21,
   "id": "89cca639",
   "metadata": {},
   "outputs": [],
   "source": [
    "threshold = .01\n",
    "\n",
    "enrichments = []\n",
    "for cluster,response in enumerate(responses):\n",
    "    for enr in response[1][gene_set_library]:\n",
    "        pvalue = float(enr[6])\n",
    "        term = enr[1]\n",
    "        genes = enr[5]\n",
    "        enrichments.append((cluster, term, pvalue, genes))\n",
    "\n",
    "pickle.dump(enrichments, open('../data/cluster_enrichments_louvain.pickle','wb'))"
   ]
  },
  {
   "attachments": {},
   "cell_type": "markdown",
   "id": "6f9037a3",
   "metadata": {},
   "source": [
    "# Export as text for Gephi visualization"
   ]
  },
  {
   "cell_type": "code",
   "execution_count": 22,
   "id": "d1a33a26",
   "metadata": {},
   "outputs": [],
   "source": [
    "gephi_file = open('../data/louvain_clusters.csv', 'w')\n",
    "gephi_file.write('Id,Label,cluster\\n')\n",
    "for cluster, genes in enumerate(communities):\n",
    "    for gene in genes:\n",
    "        gene_name = '/'.join(protein_id_to_name[gene])\n",
    "        # print(gene, gene_name, cluster)\n",
    "        gephi_file.write(f'{gene},{gene_name},{cluster}\\n')\n",
    "gephi_file.close()\n",
    "        "
   ]
  },
  {
   "cell_type": "code",
   "execution_count": 23,
   "metadata": {},
   "outputs": [
    {
     "name": "stdout",
     "output_type": "stream",
     "text": [
      "Number of communities: 18\n"
     ]
    }
   ],
   "source": [
    "print('Number of communities:', len(communities))"
   ]
  },
  {
   "cell_type": "code",
   "execution_count": 24,
   "metadata": {},
   "outputs": [
    {
     "data": {
      "text/plain": [
       "frozenset({'ENSMUSP00000001046',\n",
       "           'ENSMUSP00000005815',\n",
       "           'ENSMUSP00000008745',\n",
       "           'ENSMUSP00000020203',\n",
       "           'ENSMUSP00000020617',\n",
       "           'ENSMUSP00000022699',\n",
       "           'ENSMUSP00000022709',\n",
       "           'ENSMUSP00000022921',\n",
       "           'ENSMUSP00000025295',\n",
       "           'ENSMUSP00000026917',\n",
       "           'ENSMUSP00000031096',\n",
       "           'ENSMUSP00000043120',\n",
       "           'ENSMUSP00000044441',\n",
       "           'ENSMUSP00000053897',\n",
       "           'ENSMUSP00000067685',\n",
       "           'ENSMUSP00000079613',\n",
       "           'ENSMUSP00000081041',\n",
       "           'ENSMUSP00000091011',\n",
       "           'ENSMUSP00000098686',\n",
       "           'ENSMUSP00000099671',\n",
       "           'ENSMUSP00000099862',\n",
       "           'ENSMUSP00000101004',\n",
       "           'ENSMUSP00000124462'})"
      ]
     },
     "execution_count": 24,
     "metadata": {},
     "output_type": "execute_result"
    }
   ],
   "source": [
    "communities[0]"
   ]
  }
 ],
 "metadata": {
  "kernelspec": {
   "display_name": "mesoderm",
   "language": "python",
   "name": "python3"
  },
  "language_info": {
   "codemirror_mode": {
    "name": "ipython",
    "version": 3
   },
   "file_extension": ".py",
   "mimetype": "text/x-python",
   "name": "python",
   "nbconvert_exporter": "python",
   "pygments_lexer": "ipython3",
   "version": "3.9.16"
  },
  "vscode": {
   "interpreter": {
    "hash": "0507896927b3d1de8389777267b2e8036b260861d6d0bcda4703c464aae80a55"
   }
  }
 },
 "nbformat": 4,
 "nbformat_minor": 5
}
