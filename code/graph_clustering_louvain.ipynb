{
 "cells": [
  {
   "attachments": {},
   "cell_type": "markdown",
   "id": "c5e6b615",
   "metadata": {},
   "source": [
    "# Graph clustering using the Louvain algorithm"
   ]
  },
  {
   "cell_type": "code",
   "execution_count": 1,
   "id": "aca3678e",
   "metadata": {},
   "outputs": [],
   "source": [
    "import pickle\n",
    "import networkx as nx\n",
    "import numpy as np"
   ]
  },
  {
   "cell_type": "code",
   "execution_count": 2,
   "id": "0e611e75",
   "metadata": {},
   "outputs": [],
   "source": [
    "# Set the random seed for reproducibility\n",
    "import numpy as np\n",
    "np.random.seed(42)\n",
    "# Set the seed in python\n",
    "import random\n",
    "random.seed(42)"
   ]
  },
  {
   "cell_type": "code",
   "execution_count": 3,
   "id": "4a557227",
   "metadata": {},
   "outputs": [],
   "source": [
    "graph = pickle.load(open('../data/filtered_graph.pickle','rb'))"
   ]
  },
  {
   "cell_type": "code",
   "execution_count": 7,
   "id": "9eef745c",
   "metadata": {},
   "outputs": [],
   "source": [
    "gene_id_to_name = pickle.load(open('../data/gene_id_to_name.pickle','rb'))\n",
    "protein_id_to_name = pickle.load(open('../data/protein_id_to_name.pickle','rb'))"
   ]
  },
  {
   "attachments": {},
   "cell_type": "markdown",
   "id": "f1e048f0",
   "metadata": {},
   "source": [
    "## Louvain Clustering"
   ]
  },
  {
   "cell_type": "code",
   "execution_count": 17,
   "id": "8b2d2b51",
   "metadata": {},
   "outputs": [],
   "source": [
    "# Cluster the graph using the Louvain method\n",
    "from networkx.algorithms.community import louvain_communities, greedy_modularity_communities\n",
    "communities = greedy_modularity_communities(graph, weight=None)"
   ]
  },
  {
   "cell_type": "code",
   "execution_count": 18,
   "id": "978b4dc5",
   "metadata": {},
   "outputs": [
    {
     "data": {
      "text/plain": [
       "15"
      ]
     },
     "execution_count": 18,
     "metadata": {},
     "output_type": "execute_result"
    }
   ],
   "source": [
    "len(communities)"
   ]
  },
  {
   "cell_type": "markdown",
   "id": "f38531ab",
   "metadata": {},
   "source": [
    "## Calculate enrichment of genes in each cluster in the network"
   ]
  },
  {
   "cell_type": "code",
   "execution_count": 21,
   "id": "9665363c",
   "metadata": {},
   "outputs": [],
   "source": [
    "from pprint import pprint\n",
    "import json\n",
    "import requests"
   ]
  },
  {
   "cell_type": "code",
   "execution_count": 22,
   "id": "a0c61f6a",
   "metadata": {},
   "outputs": [],
   "source": [
    "go_names = pickle.load(open('../data/go_bio_process_2021_names.pickle','rb'))"
   ]
  },
  {
   "cell_type": "code",
   "execution_count": 23,
   "id": "1995ee99",
   "metadata": {},
   "outputs": [
    {
     "data": {
      "text/plain": [
       "14937"
      ]
     },
     "execution_count": 23,
     "metadata": {},
     "output_type": "execute_result"
    }
   ],
   "source": [
    "len(go_names)"
   ]
  },
  {
   "cell_type": "code",
   "execution_count": 24,
   "id": "f2fd906d",
   "metadata": {},
   "outputs": [],
   "source": [
    "def query_enrichr(names, gene_set_library):\n",
    "    ENRICHR_URL = 'https://maayanlab.cloud/Enrichr/addList'\n",
    "    genes_str = '\\n'.join(names)\n",
    "    description = 'Example gene list'\n",
    "    payload = {\n",
    "        'list': (None, genes_str),\n",
    "        'description': (None, description)\n",
    "    }\n",
    "\n",
    "    response = requests.post(ENRICHR_URL, files=payload)\n",
    "    if not response.ok:\n",
    "        raise Exception('Error analyzing gene list')\n",
    "\n",
    "    data = json.loads(response.text)\n",
    "#     print(data)\n",
    "\n",
    "    ENRICHR_URL = 'https://maayanlab.cloud/Enrichr/enrich'\n",
    "    query_string = '?userListId=%s&backgroundType=%s'\n",
    "    user_list_id = data['userListId']\n",
    "    response = requests.get(\n",
    "        ENRICHR_URL + query_string % (user_list_id, gene_set_library)\n",
    "     )\n",
    "    if not response.ok:\n",
    "        raise Exception('Error fetching enrichment results')\n",
    "    return json.loads(response.content)"
   ]
  },
  {
   "cell_type": "code",
   "execution_count": 25,
   "id": "a301f6a0",
   "metadata": {},
   "outputs": [],
   "source": [
    "def print_enrichment(response, gene_set_library, threshold=.01, pos_filter_words=None, neg_filter_words=None, n=None):\n",
    "    if n is None:\n",
    "        n = len(response[gene_set_library])\n",
    "    \n",
    "    for i,enr in enumerate(response[gene_set_library][:n]):\n",
    "        pvalue = float(enr[6])\n",
    "        term = enr[1]\n",
    "        match=False\n",
    "        if pvalue < threshold:\n",
    "            if pos_filter_words:\n",
    "                if any([word in term for word in pos_filter_words]):\n",
    "                    match=True\n",
    "            else:\n",
    "                match=True\n",
    "            if neg_filter_words:\n",
    "                if any([word in term for word in neg_filter_words]):\n",
    "                    match=False\n",
    "            else:\n",
    "                match=True\n",
    "                    \n",
    "        if match:\n",
    "            for j in [1, 6]:\n",
    "                print(headers[j], enr[j])\n",
    "            print(', '.join(enr[5]))\n",
    "            print('-')"
   ]
  },
  {
   "cell_type": "code",
   "execution_count": 26,
   "id": "45680f82",
   "metadata": {},
   "outputs": [],
   "source": [
    "gene_set_library = 'GO_Biological_Process_2021'"
   ]
  },
  {
   "cell_type": "code",
   "execution_count": 27,
   "id": "1a1de863",
   "metadata": {},
   "outputs": [],
   "source": [
    "headers = ['Rank', 'Term name', 'P-value', 'Z-score', 'Combined score', 'Overlapping genes', \n",
    "           'Adjusted p-value', 'Old p-value', 'Old adjusted p-value']"
   ]
  },
  {
   "cell_type": "code",
   "execution_count": 66,
   "id": "04d6c041",
   "metadata": {},
   "outputs": [],
   "source": [
    "protein_id_to_name = pickle.load(open('../data/protein_id_to_name.pickle','rb'))"
   ]
  },
  {
   "cell_type": "code",
   "execution_count": 67,
   "id": "7d0e44f1",
   "metadata": {},
   "outputs": [],
   "source": [
    "protein_id_to_synonyms = pickle.load(open('../data/protein_id_to_synonyms.pickle','rb'))"
   ]
  },
  {
   "cell_type": "code",
   "execution_count": 74,
   "id": "bbf66c8f",
   "metadata": {},
   "outputs": [
    {
     "name": "stdout",
     "output_type": "stream",
     "text": [
      "252 271 0 19\n"
     ]
    }
   ],
   "source": [
    "responses = []\n",
    "i=0\n",
    "matched = 0\n",
    "total = 0\n",
    "no_protein = []\n",
    "not_in_go = []\n",
    "for genes in communities:\n",
    "    # Get the names of the genes in the community\n",
    "    gene_names = []\n",
    "    for gene in genes:\n",
    "        total+=1\n",
    "        matched_to_go = False\n",
    "        # print(i, gene)\n",
    "        if gene in protein_id_to_synonyms:\n",
    "            for name in protein_id_to_synonyms[gene]:\n",
    "                if name in go_names and not matched_to_go:\n",
    "                    # print(i, gene, name)\n",
    "                    gene_names.append(name)\n",
    "                    matched+=1\n",
    "                    matched_to_go = True\n",
    "            if not matched_to_go:    \n",
    "                not_in_go.append((gene, protein_id_to_name[gene]))\n",
    "        else:\n",
    "            no_protein.append(gene)\n",
    "    response = query_enrichr(gene_names, gene_set_library)\n",
    "    responses.append((i, response))\n",
    "    i+=1\n",
    "print(matched, total, len(no_protein), len(not_in_go))\n",
    "    "
   ]
  },
  {
   "cell_type": "code",
   "execution_count": 75,
   "id": "37b1637a",
   "metadata": {},
   "outputs": [],
   "source": [
    "# for p in not_in_go: print(p)"
   ]
  },
  {
   "cell_type": "code",
   "execution_count": 76,
   "id": "7ad706aa",
   "metadata": {},
   "outputs": [],
   "source": [
    "positive_words = ['differentiation', 'development', 'signal', 'matrix', 'organization', 'proliferation', 'stem', 'pathway', 'morpho', 'mesoderm', 'endoderm', 'different', 'specification']\n",
    "negative_words = ['transcription']"
   ]
  },
  {
   "cell_type": "code",
   "execution_count": 77,
   "id": "b4d8d8d2",
   "metadata": {
    "scrolled": true
   },
   "outputs": [
    {
     "name": "stdout",
     "output_type": "stream",
     "text": [
      "------------------------------------\n",
      "BLOCK 0\n",
      "------------------------------------\n",
      "Term name extracellular matrix organization (GO:0030198)\n",
      "Adjusted p-value 1.7453883599159708e-07\n",
      "VTN, MMP25, COL4A2, COL5A1, MMP15, MMP2, SERPINH1, A2M, MMP9\n",
      "-\n",
      "Term name endodermal cell differentiation (GO:0035987)\n",
      "Adjusted p-value 2.2988642956325475e-07\n",
      "VTN, COL4A2, MMP15, MMP2, MMP9\n",
      "-\n",
      "Term name endoderm formation (GO:0001706)\n",
      "Adjusted p-value 2.855289674710371e-07\n",
      "VTN, COL4A2, MMP15, MMP2, MMP9\n",
      "-\n",
      "------------------------------------\n",
      "BLOCK 1\n",
      "------------------------------------\n",
      "------------------------------------\n",
      "BLOCK 2\n",
      "------------------------------------\n",
      "Term name circulatory system development (GO:0072359)\n",
      "Adjusted p-value 9.907843961233842e-08\n",
      "TBX1, FOXC2, MEF2C, FOXC1, FOXF1, ISL1, MIXL1\n",
      "-\n",
      "Term name heart development (GO:0007507)\n",
      "Adjusted p-value 5.215457476601786e-07\n",
      "TBX1, FOXC2, MEF2C, FOXC1, FOXF1, ISL1, MIXL1\n",
      "-\n",
      "Term name mesenchymal cell differentiation (GO:0048762)\n",
      "Adjusted p-value 1.2131586055044835e-06\n",
      "MEF2C, FOXC1, FOXF2, TBX20, ISL1\n",
      "-\n",
      "Term name anterior/posterior pattern specification (GO:0009952)\n",
      "Adjusted p-value 3.1336641184801057e-06\n",
      "TBX1, HOXB4, HOXB7, HOXB6, HOXB5\n",
      "-\n",
      "------------------------------------\n",
      "BLOCK 3\n",
      "------------------------------------\n",
      "Term name transmembrane receptor protein tyrosine kinase signaling pathway (GO:0007169)\n",
      "Adjusted p-value 2.420473925479271e-09\n",
      "KLB, NRP1, ANGPT1, FLT4, KIT, ERBB2, GRB10, TEK, GFRA2, FGFR1\n",
      "-\n",
      "Term name positive regulation of protein kinase B signaling (GO:0051897)\n",
      "Adjusted p-value 4.6421852166981444e-08\n",
      "KLB, ANGPT1, KIT, ERBB2, SPRY2, TEK, FGFR1\n",
      "-\n",
      "Term name regulation of protein kinase B signaling (GO:0051896)\n",
      "Adjusted p-value 1.9714325835421188e-07\n",
      "KLB, ANGPT1, KIT, ERBB2, SPRY2, TEK, FGFR1\n",
      "-\n",
      "Term name positive regulation of intracellular signal transduction (GO:1902533)\n",
      "Adjusted p-value 2.6239201966899745e-07\n",
      "KLB, ANGPT1, FLT4, KIT, ERBB2, SPRY2, S100A4, TEK, FGFR1\n",
      "-\n",
      "Term name enzyme linked receptor protein signaling pathway (GO:0007167)\n",
      "Adjusted p-value 4.1230197312903887e-07\n",
      "FLT4, KIT, ERBB2, TEK, GFRA2, FGFR1\n",
      "-\n",
      "------------------------------------\n",
      "BLOCK 4\n",
      "------------------------------------\n",
      "Term name intermediate filament organization (GO:0045109)\n",
      "Adjusted p-value 0.00015599385540347938\n",
      "DES, NEFL, VIM\n",
      "-\n",
      "Term name marginal zone B cell differentiation (GO:0002315)\n",
      "Adjusted p-value 0.0016823175002827965\n",
      "NOTCH2, DLL1\n",
      "-\n",
      "Term name mature B cell differentiation involved in immune response (GO:0002313)\n",
      "Adjusted p-value 0.004671541115105218\n",
      "NOTCH2, DLL1\n",
      "-\n",
      "Term name pulmonary valve morphogenesis (GO:0003184)\n",
      "Adjusted p-value 0.006092706055143005\n",
      "NOTCH2, SLIT2\n",
      "-\n",
      "Term name pulmonary valve development (GO:0003177)\n",
      "Adjusted p-value 0.006092706055143005\n",
      "NOTCH2, SLIT2\n",
      "-\n",
      "------------------------------------\n",
      "BLOCK 5\n",
      "------------------------------------\n",
      "Term name extracellular matrix organization (GO:0030198)\n",
      "Adjusted p-value 7.221685662822988e-14\n",
      "FGB, ITGA4, ITGA3, LAMA1, ITGB3, FGG, ITGA2B, PLG, NID1, HSPG2, ITGA9\n",
      "-\n",
      "Term name extracellular structure organization (GO:0043062)\n",
      "Adjusted p-value 8.585633357617613e-14\n",
      "FGB, ITGA4, ITGA3, LAMA1, ITGB3, FGG, ITGA2B, NID1, HSPG2, ITGA9\n",
      "-\n",
      "Term name external encapsulating structure organization (GO:0045229)\n",
      "Adjusted p-value 8.585633357617613e-14\n",
      "FGB, ITGA4, ITGA3, LAMA1, ITGB3, FGG, ITGA2B, NID1, HSPG2, ITGA9\n",
      "-\n",
      "Term name cell-matrix adhesion (GO:0007160)\n",
      "Adjusted p-value 2.0526744305866393e-08\n",
      "FGB, ITGA4, ITGA3, ITGB3, FGG, PKD1\n",
      "-\n",
      "------------------------------------\n",
      "BLOCK 6\n",
      "------------------------------------\n",
      "Term name cortical cytoskeleton organization (GO:0030865)\n",
      "Adjusted p-value 0.0010504810708232076\n",
      "RND2, RND3, RHOB\n",
      "-\n",
      "Term name regulation of actin cytoskeleton organization (GO:0032956)\n",
      "Adjusted p-value 0.0029208533422951893\n",
      "RND2, RND3, RHOB\n",
      "-\n",
      "Term name regulation of cytoskeleton organization (GO:0051493)\n",
      "Adjusted p-value 0.004339213101532831\n",
      "RND2, RND3, RHOB\n",
      "-\n",
      "Term name cytoskeleton organization (GO:0007010)\n",
      "Adjusted p-value 0.004438244844571871\n",
      "RND2, RND3, RHOB\n",
      "-\n",
      "Term name actin filament organization (GO:0007015)\n",
      "Adjusted p-value 0.007652168910989343\n",
      "RND2, RND3, RHOB\n",
      "-\n",
      "Term name regulation of intracellular signal transduction (GO:1902531)\n",
      "Adjusted p-value 0.00992212191529947\n",
      "ARHGEF3, HSPB1, RHOB, MAP2K6\n",
      "-\n",
      "------------------------------------\n",
      "BLOCK 7\n",
      "------------------------------------\n",
      "Term name mesoderm morphogenesis (GO:0048332)\n",
      "Adjusted p-value 1.5487246233908023e-08\n",
      "EOMES, MESP2, MESP1, MSGN1\n",
      "-\n",
      "Term name mesoderm development (GO:0007498)\n",
      "Adjusted p-value 9.057871966576462e-08\n",
      "HES7, MESP1, TCF15, TBX6\n",
      "-\n",
      "Term name mesoderm formation (GO:0001707)\n",
      "Adjusted p-value 9.057871966576462e-08\n",
      "MESP2, EOMES, MESP1, MSGN1\n",
      "-\n",
      "Term name regulation of hematopoietic stem cell differentiation (GO:1902036)\n",
      "Adjusted p-value 1.0900914406734136e-05\n",
      "TCF15, TAL1, LMO2, RUNX1\n",
      "-\n",
      "Term name embryonic axis specification (GO:0000578)\n",
      "Adjusted p-value 1.0900914406734136e-05\n",
      "MESP2, MESP1, SMAD6\n",
      "-\n",
      "------------------------------------\n",
      "BLOCK 8\n",
      "------------------------------------\n",
      "Term name regulation of smoothened signaling pathway (GO:0008589)\n",
      "Adjusted p-value 4.1095378432292813e-08\n",
      "SHH, SUFU, GAS1, GLI1, GLI3\n",
      "-\n",
      "Term name smoothened signaling pathway (GO:0007224)\n",
      "Adjusted p-value 3.406420800815707e-07\n",
      "SHH, GLI1, GLI3, GLI2\n",
      "-\n",
      "Term name embryonic digit morphogenesis (GO:0042733)\n",
      "Adjusted p-value 9.150358853437095e-06\n",
      "SHH, TWIST1, GLI3\n",
      "-\n",
      "Term name oligodendrocyte differentiation (GO:0048709)\n",
      "Adjusted p-value 1.1177304532075958e-05\n",
      "SHH, SOX9, SOX10\n",
      "-\n",
      "Term name glial cell differentiation (GO:0010001)\n",
      "Adjusted p-value 2.856479244649293e-05\n",
      "SHH, SOX9, SOX10\n",
      "-\n",
      "------------------------------------\n",
      "BLOCK 9\n",
      "------------------------------------\n",
      "Term name Wnt signaling pathway (GO:0016055)\n",
      "Adjusted p-value 1.8707856272711262e-11\n",
      "WNT6, FZD5, WNT3A, WNT8A, WNT3, WLS, WNT4\n",
      "-\n",
      "Term name canonical Wnt signaling pathway (GO:0060070)\n",
      "Adjusted p-value 3.350859571627504e-10\n",
      "WNT6, FZD5, WNT3A, WNT8A, WNT3, WNT4\n",
      "-\n",
      "Term name anterior/posterior axis specification (GO:0009948)\n",
      "Adjusted p-value 5.23842661131386e-08\n",
      "FZD5, CDX1, WNT8A, WLS\n",
      "-\n",
      "Term name neuron differentiation (GO:0030182)\n",
      "Adjusted p-value 5.23842661131386e-08\n",
      "WNT6, FZD5, WNT3A, WNT8A, WNT3, WNT4\n",
      "-\n",
      "------------------------------------\n",
      "BLOCK 10\n",
      "------------------------------------\n",
      "------------------------------------\n",
      "BLOCK 11\n",
      "------------------------------------\n",
      "Term name regulation of protein kinase B signaling (GO:0051896)\n",
      "Adjusted p-value 0.0005507739020064297\n",
      "PDGFRB, SLC9A3R1, IRS1, EPHA2\n",
      "-\n",
      "Term name transmembrane receptor protein tyrosine kinase signaling pathway (GO:0007169)\n",
      "Adjusted p-value 0.0028085980878357272\n",
      "PDGFRB, IRS1, EPHA1, EPHA2\n",
      "-\n",
      "Term name enzyme linked receptor protein signaling pathway (GO:0007167)\n",
      "Adjusted p-value 0.0028085980878357272\n",
      "PDGFRB, EPHA1, EPHA2\n",
      "-\n",
      "------------------------------------\n",
      "BLOCK 12\n",
      "------------------------------------\n",
      "Term name secondary palate development (GO:0062009)\n",
      "Adjusted p-value 0.0011565477727003427\n",
      "TGFB3, TGFBR2\n",
      "-\n",
      "------------------------------------\n",
      "BLOCK 13\n",
      "------------------------------------\n",
      "Term name kidney mesenchyme development (GO:0072074)\n",
      "Adjusted p-value 5.239842996174509e-07\n",
      "WT1, SIX1, PAX2\n",
      "-\n",
      "Term name metanephric mesenchyme development (GO:0072075)\n",
      "Adjusted p-value 7.715222223703443e-07\n",
      "WT1, SIX1, PAX2\n",
      "-\n",
      "Term name branching involved in ureteric bud morphogenesis (GO:0001658)\n",
      "Adjusted p-value 1.882835825166806e-06\n",
      "WT1, SIX1, PAX2\n",
      "-\n",
      "Term name ureteric bud morphogenesis (GO:0060675)\n",
      "Adjusted p-value 1.882835825166806e-06\n",
      "WT1, SIX1, PAX2\n",
      "-\n",
      "Term name epithelial cell differentiation (GO:0030855)\n",
      "Adjusted p-value 1.882835825166806e-06\n",
      "WT1, SIX3, SIX1, PAX2\n",
      "-\n",
      "Term name endocrine system development (GO:0035270)\n",
      "Adjusted p-value 3.1471152006963453e-06\n",
      "WT1, SIX3, SIX1\n",
      "-\n",
      "Term name metanephros development (GO:0001656)\n",
      "Adjusted p-value 3.4639160867314783e-06\n",
      "WT1, SIX1, PAX2\n",
      "-\n",
      "Term name branching morphogenesis of an epithelial tube (GO:0048754)\n",
      "Adjusted p-value 1.5387358425469477e-05\n",
      "WT1, SIX1, PAX2\n",
      "-\n",
      "Term name renal system development (GO:0072001)\n",
      "Adjusted p-value 2.6000104200429774e-05\n",
      "WT1, SIX1, PAX2\n",
      "-\n",
      "Term name eye development (GO:0001654)\n",
      "Adjusted p-value 2.6000104200429774e-05\n",
      "WT1, SIX3, PAX2\n",
      "-\n",
      "------------------------------------\n",
      "BLOCK 14\n",
      "------------------------------------\n"
     ]
    }
   ],
   "source": [
    "for block_id, response in responses:\n",
    "    print(\"------------------------------------\")\n",
    "    print(\"BLOCK\", block_id)\n",
    "    print(\"------------------------------------\")    \n",
    "    print_enrichment(response, gene_set_library, pos_filter_words=positive_words, neg_filter_words=negative_words, n=10)"
   ]
  },
  {
   "attachments": {},
   "cell_type": "markdown",
   "id": "a518ea96",
   "metadata": {},
   "source": [
    "## Export nodes with cluster assignments"
   ]
  },
  {
   "cell_type": "code",
   "execution_count": 39,
   "id": "825cd984",
   "metadata": {},
   "outputs": [],
   "source": [
    "cluster_file = open('../data/connected_graph_nodes_clusters.csv', 'w')\n",
    "cluster_file.write('Id,Label,HierarchicalCluster\\n')\n",
    "for block, node_ids in ids.items():\n",
    "    for node_id in node_ids:\n",
    "        ensembl_id = graph.vertex_properties['id'][node_id]\n",
    "        cluster_file.write(','.join([ensembl_id, '/'.join(protein_id_to_name[ensembl_id]), str(block)]))\n",
    "        cluster_file.write('\\n')\n",
    "cluster_file.close()"
   ]
  },
  {
   "cell_type": "code",
   "execution_count": null,
   "id": "01ba09f4",
   "metadata": {},
   "outputs": [],
   "source": []
  }
 ],
 "metadata": {
  "kernelspec": {
   "display_name": "mesoderm",
   "language": "python",
   "name": "python3"
  },
  "language_info": {
   "codemirror_mode": {
    "name": "ipython",
    "version": 3
   },
   "file_extension": ".py",
   "mimetype": "text/x-python",
   "name": "python",
   "nbconvert_exporter": "python",
   "pygments_lexer": "ipython3",
   "version": "3.10.6"
  },
  "vscode": {
   "interpreter": {
    "hash": "0507896927b3d1de8389777267b2e8036b260861d6d0bcda4703c464aae80a55"
   }
  }
 },
 "nbformat": 4,
 "nbformat_minor": 5
}
