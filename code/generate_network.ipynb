{
 "cells": [
  {
   "cell_type": "markdown",
   "id": "21c7e742",
   "metadata": {},
   "source": [
    "# Generate network of genes and proteins up/down regulated by NANOG induction\n",
    "\n",
    "Based on data from Tiana et al. Science Advances, 2022, in which the authors \"aimed to understand the role of Oct4 and Nanog beyond pluripotency. We have characterized the transcriptional changes caused by gain of function of these factors and determined that they regulate many developmental regulators in a dual fashion, repressing their expression at E7.5 and activating them at E9.5\"\n",
    "\n",
    "Here, I combined their list of up/down regulated genes with protein-protein interaction and transcription factor databases to generate a network that describes connections between the different genes and their respective proteins."
   ]
  },
  {
   "cell_type": "code",
   "execution_count": 1,
   "id": "2c426665",
   "metadata": {},
   "outputs": [],
   "source": [
    "import json\n",
    "import pickle\n",
    "import networkx as nx"
   ]
  },
  {
   "cell_type": "code",
   "execution_count": 2,
   "id": "f550c21c",
   "metadata": {},
   "outputs": [],
   "source": [
    "from matplotlib import pyplot as plt"
   ]
  },
  {
   "cell_type": "markdown",
   "id": "3d933eaa",
   "metadata": {},
   "source": [
    "## Match genes in Tiana et al data to their respective proteins"
   ]
  },
  {
   "cell_type": "code",
   "execution_count": 3,
   "id": "1e64d856",
   "metadata": {},
   "outputs": [],
   "source": [
    "gene_protein = pickle.load(open('../data/gene_protein_ids.pickle','rb'))"
   ]
  },
  {
   "cell_type": "code",
   "execution_count": 4,
   "id": "bd35cf8f",
   "metadata": {},
   "outputs": [
    {
     "name": "stdout",
     "output_type": "stream",
     "text": [
      "num genes in data                1638\n",
      "num proteins matched to genes    1489\n"
     ]
    }
   ],
   "source": [
    "data_genes = []\n",
    "datafile = open('../data/tiana_etal_science_advances_2022.csv')\n",
    "header = next(datafile)\n",
    "for line in datafile:\n",
    "    s=line.strip().split(',')\n",
    "    data_genes.append(s[0])\n",
    "\n",
    "gene_graph = nx.DiGraph()\n",
    "\n",
    "protein_gene_matches = 0\n",
    "for gene in data_genes:\n",
    "    if gene in gene_protein:\n",
    "        protein_gene_matches += 1 \n",
    "        protein = gene_protein[gene]\n",
    "        gene_graph.add_edge(('gene', gene), ('protein', protein), type='gene_protein')\n",
    "\n",
    "print('num genes in data               ', len(data_genes))\n",
    "print('num proteins matched to genes   ', protein_gene_matches)"
   ]
  },
  {
   "cell_type": "markdown",
   "id": "8c99a58f",
   "metadata": {},
   "source": [
    "## Protein protein interaction data (STRINGdb)"
   ]
  },
  {
   "cell_type": "code",
   "execution_count": 5,
   "id": "7e1c873f",
   "metadata": {},
   "outputs": [],
   "source": [
    "# Extract and transform relevant data from STRING database dump file\n",
    "def process_line(line):\n",
    "    s = line.strip().split(' ')\n",
    "    # Remove the 10090 prefix that indicates this is from the mouse species data in STRING\n",
    "    s[0] = s[0].split('.')[1]\n",
    "    s[1] = s[1].split('.')[1]\n",
    "    for i,c in enumerate(s[2:]):\n",
    "        s[i+2] = int(c)\n",
    "        \n",
    "    return s"
   ]
  },
  {
   "cell_type": "code",
   "execution_count": 6,
   "id": "2b96ac9e",
   "metadata": {},
   "outputs": [],
   "source": [
    "columns = ['protein1',\n",
    "'protein2',\n",
    "'neighborhood',\n",
    "'fusion',\n",
    "'cooccurence',\n",
    "'coexpression',\n",
    "'experimental',\n",
    "'database',\n",
    "'textmining',\n",
    "'combined_score']"
   ]
  },
  {
   "cell_type": "code",
   "execution_count": 7,
   "id": "40fa17c6",
   "metadata": {},
   "outputs": [
    {
     "name": "stdout",
     "output_type": "stream",
     "text": [
      "(0, 'protein1')\n",
      "(1, 'protein2')\n",
      "(2, 'neighborhood')\n",
      "(3, 'fusion')\n",
      "(4, 'cooccurence')\n",
      "(5, 'coexpression')\n",
      "(6, 'experimental')\n",
      "(7, 'database')\n",
      "(8, 'textmining')\n",
      "(9, 'combined_score')\n"
     ]
    }
   ],
   "source": [
    "for c in list(enumerate(columns)): print(c)"
   ]
  },
  {
   "cell_type": "code",
   "execution_count": 10,
   "id": "a0884e12",
   "metadata": {},
   "outputs": [],
   "source": [
    "# Use linux utility wc to quickly count the number of lines in the string data file\n",
    "n = !wc -l ../data/string_db_mouse_ppi.txt\n",
    "n = int(n[0].split(' ')[0])\n",
    "\n",
    "step = int(n/20)"
   ]
  },
  {
   "cell_type": "code",
   "execution_count": 11,
   "id": "8a539f54",
   "metadata": {},
   "outputs": [
    {
     "name": "stdout",
     "output_type": "stream",
     "text": [
      "0\n",
      "4\n",
      "9\n",
      "14\n",
      "19\n",
      "24\n",
      "29\n",
      "34\n",
      "39\n",
      "44\n",
      "49\n",
      "54\n",
      "59\n",
      "64\n",
      "69\n",
      "74\n",
      "79\n",
      "84\n",
      "89\n",
      "94\n",
      "99\n"
     ]
    }
   ],
   "source": [
    "# Create a networkx graph from the string data\n",
    "string_file = open('../data/string_db_mouse_ppi.txt')\n",
    "\n",
    "header = next(string_file)\n",
    "\n",
    "string_graph = nx.Graph()\n",
    "for i,line in enumerate(string_file):\n",
    "    line = process_line(line)\n",
    "    src = line[0]\n",
    "    tgt = line[1]\n",
    "    coexpression = line[5]\n",
    "    experimental = line[6]\n",
    "    \n",
    "    string_graph.add_edge(('protein', src), ('protein', tgt), \n",
    "                          coexpression=coexpression, experimental=experimental)\n",
    "    # Print progress\n",
    "    if i%step==0:\n",
    "        print(int(i/n*100))"
   ]
  },
  {
   "cell_type": "code",
   "execution_count": 12,
   "id": "8bb6ad4b",
   "metadata": {},
   "outputs": [
    {
     "data": {
      "text/plain": [
       "21317"
      ]
     },
     "execution_count": 12,
     "metadata": {},
     "output_type": "execute_result"
    }
   ],
   "source": [
    "len(string_graph)"
   ]
  },
  {
   "cell_type": "code",
   "execution_count": 13,
   "id": "ef8c595b",
   "metadata": {},
   "outputs": [],
   "source": [
    "pickle.dump(string_graph, open('../data/string_graph.pickle','wb'))"
   ]
  },
  {
   "cell_type": "markdown",
   "id": "5d1d4059",
   "metadata": {},
   "source": [
    "## Remove low quality edges from graph"
   ]
  },
  {
   "cell_type": "code",
   "execution_count": 14,
   "id": "137f3bf7",
   "metadata": {},
   "outputs": [],
   "source": [
    "filtered_graph = nx.Graph()\n",
    "for edge in string_graph.edges(data=True):\n",
    "    attrs = edge[2]\n",
    "    if attrs['coexpression'] > 250:\n",
    "        filtered_graph.add_edge(u_of_edge=edge[0], v_of_edge=edge[1], \n",
    "                                type='coexpression', weight=attrs['coexpression'])\n",
    "    if attrs['experimental'] > 250:\n",
    "        filtered_graph.add_edge(u_of_edge=edge[0], v_of_edge=edge[1], \n",
    "                                type='experimental', weight=attrs['experimental'])"
   ]
  },
  {
   "cell_type": "code",
   "execution_count": 15,
   "id": "d29cb40e",
   "metadata": {},
   "outputs": [
    {
     "data": {
      "text/plain": [
       "412836"
      ]
     },
     "execution_count": 15,
     "metadata": {},
     "output_type": "execute_result"
    }
   ],
   "source": [
    "filtered_graph.number_of_edges()"
   ]
  },
  {
   "cell_type": "code",
   "execution_count": 16,
   "id": "8ea8a825",
   "metadata": {},
   "outputs": [
    {
     "data": {
      "text/plain": [
       "16211"
      ]
     },
     "execution_count": 16,
     "metadata": {},
     "output_type": "execute_result"
    }
   ],
   "source": [
    "filtered_graph.number_of_nodes()"
   ]
  },
  {
   "cell_type": "markdown",
   "id": "44d3b976",
   "metadata": {},
   "source": [
    "## Load Transcription factors (TRRUST)"
   ]
  },
  {
   "cell_type": "code",
   "execution_count": 17,
   "id": "a3718587",
   "metadata": {},
   "outputs": [],
   "source": [
    "# These data files provide mappings between gene/protein names (TP53, NANOG, etc) to their Ensembl ID\n",
    "protein_names = pickle.load(open('../data/protein_names.pickle','rb'))\n",
    "gene_names = pickle.load(open('../data/gene_names.pickle','rb'))"
   ]
  },
  {
   "cell_type": "code",
   "execution_count": 18,
   "id": "d748f52e",
   "metadata": {},
   "outputs": [],
   "source": [
    "tf_graph = nx.DiGraph()\n",
    "n_tfs = 0\n",
    "for line in open('../data/trrust_rawdata.mouse.tsv'):\n",
    "    s = line.split('\\t')\n",
    "    src, tgt, etype, dois = s\n",
    "    src = src.upper()\n",
    "    tgt = tgt.upper()\n",
    "    # Each protein and gene name can map to multiple different Ensembl ID's.\n",
    "    # For example, each a protein can be translated from multiple different splice variants, each of which has a \n",
    "    # unique Ensembl ID\n",
    "    # Below, we create connections between all ensembl id's associated with each source/target name\n",
    "    if src in protein_names and tgt in protein_names:\n",
    "        src_ids = protein_names[src]\n",
    "        tgt_ids = gene_names[tgt]\n",
    "        for src_id in src_ids:\n",
    "            for tgt_id in tgt_ids:\n",
    "                tf_graph.add_edge(('protein',src_id), ('gene',tgt_id), type='tf', effect=etype, dois=dois.strip())\n",
    "    n_tfs+=1"
   ]
  },
  {
   "cell_type": "code",
   "execution_count": 19,
   "id": "e4165952",
   "metadata": {},
   "outputs": [
    {
     "data": {
      "text/plain": [
       "5523"
      ]
     },
     "execution_count": 19,
     "metadata": {},
     "output_type": "execute_result"
    }
   ],
   "source": [
    "tf_graph.number_of_nodes()"
   ]
  },
  {
   "cell_type": "code",
   "execution_count": 20,
   "id": "6b94cdac",
   "metadata": {},
   "outputs": [
    {
     "data": {
      "text/plain": [
       "31682"
      ]
     },
     "execution_count": 20,
     "metadata": {},
     "output_type": "execute_result"
    }
   ],
   "source": [
    "tf_graph.number_of_edges()"
   ]
  },
  {
   "cell_type": "code",
   "execution_count": 21,
   "id": "4ec30203",
   "metadata": {},
   "outputs": [
    {
     "data": {
      "text/plain": [
       "7057"
      ]
     },
     "execution_count": 21,
     "metadata": {},
     "output_type": "execute_result"
    }
   ],
   "source": [
    "n_tfs"
   ]
  },
  {
   "cell_type": "markdown",
   "id": "9cc74176",
   "metadata": {},
   "source": [
    "## Combine protein-protein, transcription factors, and gene-protein interactions"
   ]
  },
  {
   "cell_type": "code",
   "execution_count": 22,
   "id": "e7f9ed33",
   "metadata": {},
   "outputs": [],
   "source": [
    "data_proteins = [node for node in gene_graph.nodes() if node[0]=='protein']"
   ]
  },
  {
   "cell_type": "code",
   "execution_count": 23,
   "id": "d7f1e632",
   "metadata": {},
   "outputs": [],
   "source": [
    "data_genes = [node for node in gene_graph.nodes() if node[0]=='gene']"
   ]
  },
  {
   "cell_type": "code",
   "execution_count": 24,
   "id": "cdc914e9",
   "metadata": {},
   "outputs": [
    {
     "data": {
      "text/plain": [
       "1489"
      ]
     },
     "execution_count": 24,
     "metadata": {},
     "output_type": "execute_result"
    }
   ],
   "source": [
    "len(data_proteins)"
   ]
  },
  {
   "cell_type": "code",
   "execution_count": 25,
   "id": "17cbe7f7",
   "metadata": {},
   "outputs": [
    {
     "data": {
      "text/plain": [
       "1489"
      ]
     },
     "execution_count": 25,
     "metadata": {},
     "output_type": "execute_result"
    }
   ],
   "source": [
    "len(data_genes)"
   ]
  },
  {
   "cell_type": "code",
   "execution_count": 26,
   "id": "7a7d6a3d",
   "metadata": {},
   "outputs": [],
   "source": [
    "data_protein_interactions = filtered_graph.subgraph(data_proteins)"
   ]
  },
  {
   "cell_type": "code",
   "execution_count": 27,
   "id": "4fb13e0d",
   "metadata": {},
   "outputs": [],
   "source": [
    "combined = nx.compose(gene_graph, data_protein_interactions.to_directed())"
   ]
  },
  {
   "cell_type": "code",
   "execution_count": 28,
   "id": "8a32ca0b",
   "metadata": {},
   "outputs": [
    {
     "data": {
      "text/plain": [
       "2978"
      ]
     },
     "execution_count": 28,
     "metadata": {},
     "output_type": "execute_result"
    }
   ],
   "source": [
    "combined.number_of_nodes()"
   ]
  },
  {
   "cell_type": "code",
   "execution_count": 29,
   "id": "0d0d1e14",
   "metadata": {},
   "outputs": [
    {
     "data": {
      "text/plain": [
       "3345"
      ]
     },
     "execution_count": 29,
     "metadata": {},
     "output_type": "execute_result"
    }
   ],
   "source": [
    "combined.number_of_edges()"
   ]
  },
  {
   "cell_type": "code",
   "execution_count": 30,
   "id": "32d720f0",
   "metadata": {},
   "outputs": [],
   "source": [
    "data_tfs = tf_graph.subgraph(gene_graph.nodes())"
   ]
  },
  {
   "cell_type": "code",
   "execution_count": 31,
   "id": "e9e0cb1a",
   "metadata": {},
   "outputs": [
    {
     "data": {
      "text/plain": [
       "511"
      ]
     },
     "execution_count": 31,
     "metadata": {},
     "output_type": "execute_result"
    }
   ],
   "source": [
    "data_tfs.number_of_nodes()"
   ]
  },
  {
   "cell_type": "code",
   "execution_count": 32,
   "id": "c5339e97",
   "metadata": {},
   "outputs": [
    {
     "data": {
      "text/plain": [
       "380"
      ]
     },
     "execution_count": 32,
     "metadata": {},
     "output_type": "execute_result"
    }
   ],
   "source": [
    "data_tfs.number_of_edges()"
   ]
  },
  {
   "cell_type": "code",
   "execution_count": 33,
   "id": "aaba9860",
   "metadata": {},
   "outputs": [],
   "source": [
    "combined = nx.compose(combined, data_tfs)"
   ]
  },
  {
   "cell_type": "code",
   "execution_count": 34,
   "id": "534b18bb",
   "metadata": {},
   "outputs": [
    {
     "data": {
      "text/plain": [
       "2978"
      ]
     },
     "execution_count": 34,
     "metadata": {},
     "output_type": "execute_result"
    }
   ],
   "source": [
    "combined.number_of_nodes()"
   ]
  },
  {
   "cell_type": "code",
   "execution_count": 35,
   "id": "ad692939",
   "metadata": {},
   "outputs": [
    {
     "data": {
      "text/plain": [
       "3725"
      ]
     },
     "execution_count": 35,
     "metadata": {},
     "output_type": "execute_result"
    }
   ],
   "source": [
    "combined.number_of_edges()"
   ]
  },
  {
   "cell_type": "markdown",
   "id": "cd7a8761",
   "metadata": {},
   "source": [
    "## Filter the combined graph to only the largest connected component\n",
    "\n",
    "The rationale for this is that most of the disconnected components are extremely small in size (i.e. a single gene-protein pair), meaning that we don't have good prior knowledge for how they are regulated by other genes/proteins in the system.  \n",
    "\n",
    "Instead we are only interested in the \"core\" set of interacting genes. These are presumably the set that are most strongly influenced by the induction of NANOG, while the genes/proteins in the disconnected components might be regulated primarily by other systems."
   ]
  },
  {
   "cell_type": "code",
   "execution_count": 36,
   "id": "ebc87358",
   "metadata": {},
   "outputs": [
    {
     "data": {
      "text/plain": [
       "[990, 10, 8, 6, 6, 4, 4, 4, 4, 4]"
      ]
     },
     "execution_count": 36,
     "metadata": {},
     "output_type": "execute_result"
    }
   ],
   "source": [
    "# Size of the connected components of the network\n",
    "sorted([len(cc) for cc in nx.weakly_connected_components(combined)], reverse=True)[:10]"
   ]
  },
  {
   "cell_type": "code",
   "execution_count": 37,
   "id": "4f4a52f5",
   "metadata": {},
   "outputs": [],
   "source": [
    "# Grab the subgraph corresponding to the largest connected component\n",
    "connected_graph_nodes = sorted([cc for cc in nx.weakly_connected_components(combined)], key=len, reverse=True)[0]\n",
    "connected_graph = combined.subgraph(connected_graph_nodes)"
   ]
  },
  {
   "cell_type": "code",
   "execution_count": 38,
   "id": "f7df4197",
   "metadata": {},
   "outputs": [
    {
     "name": "stdout",
     "output_type": "stream",
     "text": [
      "True\n",
      "990\n",
      "2680\n"
     ]
    }
   ],
   "source": [
    "# Basic quality checks to ensure that the connected component subgraph is correct\n",
    "print(nx.is_weakly_connected(connected_graph))\n",
    "print(nx.number_of_nodes(connected_graph))\n",
    "print(nx.number_of_edges(connected_graph))"
   ]
  },
  {
   "cell_type": "code",
   "execution_count": 39,
   "id": "49798ff9",
   "metadata": {},
   "outputs": [],
   "source": [
    "from collections import Counter\n",
    "from pprint import pprint"
   ]
  },
  {
   "cell_type": "markdown",
   "id": "52bed727",
   "metadata": {},
   "source": [
    "### Statistics of largest connected component"
   ]
  },
  {
   "cell_type": "code",
   "execution_count": 40,
   "id": "01cd5da5",
   "metadata": {},
   "outputs": [
    {
     "name": "stdout",
     "output_type": "stream",
     "text": [
      "[('experimental', 1186),\n",
      " ('coexpression', 624),\n",
      " ('gene_protein', 495),\n",
      " ('tf', 375)]\n"
     ]
    }
   ],
   "source": [
    "# Edge types in the giant component\n",
    "edge_types = Counter()\n",
    "for edge in connected_graph.edges(data=True):\n",
    "    edge_types[edge[2]['type']] += 1\n",
    "pprint(edge_types.most_common())"
   ]
  },
  {
   "cell_type": "code",
   "execution_count": 41,
   "id": "c9c90b49",
   "metadata": {},
   "outputs": [
    {
     "data": {
      "text/plain": [
       "2.707070707070707"
      ]
     },
     "execution_count": 41,
     "metadata": {},
     "output_type": "execute_result"
    }
   ],
   "source": [
    "# Average degree\n",
    "nx.number_of_edges(connected_graph)/nx.number_of_nodes(connected_graph)"
   ]
  },
  {
   "cell_type": "markdown",
   "id": "46c04055",
   "metadata": {},
   "source": [
    "### Degree distribution of largest connected component"
   ]
  },
  {
   "cell_type": "code",
   "execution_count": 42,
   "id": "4d6d33be",
   "metadata": {},
   "outputs": [
    {
     "data": {
      "image/png": "[encoded data removed]",
      "text/plain": [
       "<Figure size 432x288 with 1 Axes>"
      ]
     },
     "metadata": {
      "needs_background": "light"
     },
     "output_type": "display_data"
    }
   ],
   "source": [
    "plt.hist(dict(connected_graph.in_degree).values());"
   ]
  },
  {
   "cell_type": "code",
   "execution_count": 43,
   "id": "e9d1c91a",
   "metadata": {},
   "outputs": [
    {
     "data": {
      "image/png": "[encoded data removed]",
      "text/plain": [
       "<Figure size 432x288 with 1 Axes>"
      ]
     },
     "metadata": {
      "needs_background": "light"
     },
     "output_type": "display_data"
    }
   ],
   "source": [
    "plt.hist(dict(connected_graph.out_degree).values());"
   ]
  },
  {
   "cell_type": "markdown",
   "id": "449f874c",
   "metadata": {},
   "source": [
    "## Check that NANOG is in the largest connected component"
   ]
  },
  {
   "cell_type": "code",
   "execution_count": 44,
   "id": "1a0401b2",
   "metadata": {},
   "outputs": [
    {
     "name": "stdout",
     "output_type": "stream",
     "text": [
      "('gene', 'ENSMUSG00000012396') 10 1\n"
     ]
    }
   ],
   "source": [
    "nanog_ids = gene_names['NANOG']\n",
    "for nanog_id in nanog_ids:\n",
    "    nanog_id = ('gene', nanog_id)\n",
    "    if nanog_id in connected_graph:\n",
    "        print(nanog_id, connected_graph.in_degree[nanog_id], connected_graph.out_degree[nanog_id])"
   ]
  },
  {
   "cell_type": "code",
   "execution_count": 45,
   "id": "7b0cb809",
   "metadata": {},
   "outputs": [
    {
     "name": "stdout",
     "output_type": "stream",
     "text": [
      "('protein', 'ENSMUSP00000012540') 9 15\n"
     ]
    }
   ],
   "source": [
    "nanog_ids = protein_names['NANOG']\n",
    "for nanog_id in nanog_ids:\n",
    "    nanog_id = ('protein', nanog_id)\n",
    "    if nanog_id in connected_graph:\n",
    "        print(nanog_id, connected_graph.in_degree[nanog_id], connected_graph.out_degree[nanog_id])"
   ]
  },
  {
   "cell_type": "markdown",
   "id": "88e01510",
   "metadata": {},
   "source": [
    "## Export connected component in gephi compatible format"
   ]
  },
  {
   "cell_type": "code",
   "execution_count": 46,
   "id": "a2e2f8c7",
   "metadata": {},
   "outputs": [],
   "source": [
    "nodefile = open('../data/connected_graph_nodes.csv','w')\n",
    "nodefile.write('Id,data\\n')\n",
    "for node in connected_graph.nodes():\n",
    "    t,v = node\n",
    "    nodefile.write(','.join((v,t)) + '\\n')\n",
    "nodefile.close()"
   ]
  },
  {
   "cell_type": "code",
   "execution_count": 47,
   "id": "496c2bc0",
   "metadata": {},
   "outputs": [
    {
     "data": {
      "text/plain": [
       "{'coexpression', 'experimental'}"
      ]
     },
     "execution_count": 47,
     "metadata": {},
     "output_type": "execute_result"
    }
   ],
   "source": [
    "set(attrs.keys())"
   ]
  },
  {
   "cell_type": "code",
   "execution_count": 48,
   "id": "58867435",
   "metadata": {},
   "outputs": [],
   "source": [
    "all_attrs = set()\n",
    "for edge in connected_graph.edges(data=True):\n",
    "    src, tgt, attrs = edge\n",
    "    for key in attrs.keys():\n",
    "        all_attrs.add(key)"
   ]
  },
  {
   "cell_type": "code",
   "execution_count": 49,
   "id": "c829ea70",
   "metadata": {},
   "outputs": [],
   "source": [
    "all_attrs = list(all_attrs)"
   ]
  },
  {
   "cell_type": "code",
   "execution_count": 50,
   "id": "507b3ec0",
   "metadata": {},
   "outputs": [],
   "source": [
    "edgefile = open('../data/connected_graph_edges.csv','w')\n",
    "edgefile.write('Source,Target,'+','.join(all_attrs)+'\\n')\n",
    "for edge in connected_graph.edges(data=True):\n",
    "    (tsrc, src), (ttgt, tgt), attrs = edge\n",
    "    line = [src, tgt]\n",
    "    for attr in all_attrs:\n",
    "        if attr in attrs:\n",
    "            line.append(attrs[attr])\n",
    "        else:\n",
    "            line.append('')\n",
    "\n",
    "    edgefile.write(','.join([str(_) for _ in line]) + '\\n')\n",
    "edgefile.close()"
   ]
  }
 ],
 "metadata": {
  "kernelspec": {
   "display_name": "Python [conda env:mesoderm]",
   "language": "python",
   "name": "conda-env-mesoderm-py"
  },
  "language_info": {
   "codemirror_mode": {
    "name": "ipython",
    "version": 3
   },
   "file_extension": ".py",
   "mimetype": "text/x-python",
   "name": "python",
   "nbconvert_exporter": "python",
   "pygments_lexer": "ipython3",
   "version": "3.10.4"
  }
 },
 "nbformat": 4,
 "nbformat_minor": 5
}
