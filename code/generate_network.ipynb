{
 "cells": [
  {
   "cell_type": "markdown",
   "id": "ec21059d",
   "metadata": {},
   "source": [
    "# Generate network of genes and proteins up/down regulated by NANOG induction\n",
    "\n",
    "Based on data from Tiana et al. Science Advances, 2022, in which the authors \"aimed to understand the role of Oct4 and Nanog beyond pluripotency. We have characterized the transcriptional changes caused by gain of function of these factors and determined that they regulate many developmental regulators in a dual fashion, repressing their expression at E7.5 and activating them at E9.5\"\n",
    "\n",
    "Here, I combined their list of up/down regulated genes with protein-protein interaction and transcription factor databases to generate a network that describes connections between the different genes and their respective proteins."
   ]
  },
  {
   "cell_type": "code",
   "execution_count": 1,
   "id": "57b276dc",
   "metadata": {},
   "outputs": [],
   "source": [
    "import json\n",
    "import pickle\n",
    "import networkx as nx"
   ]
  },
  {
   "cell_type": "code",
   "execution_count": 2,
   "id": "90a9bb31",
   "metadata": {},
   "outputs": [],
   "source": [
    "from matplotlib import pyplot as plt"
   ]
  },
  {
   "cell_type": "code",
   "execution_count": 3,
   "id": "4da8c8a8",
   "metadata": {},
   "outputs": [],
   "source": [
    "from collections import defaultdict, Counter"
   ]
  },
  {
   "cell_type": "code",
   "execution_count": null,
   "id": "998be902",
   "metadata": {},
   "outputs": [],
   "source": [
    "## Match genes in Tiana et al data to their respective proteins"
   ]
  },
  {
   "cell_type": "code",
   "execution_count": null,
   "id": "48494bf7",
   "metadata": {},
   "outputs": [],
   "source": [
    "gene_protein = pickle.load(open('../data/gene_protein_ids.pickle','rb'))"
   ]
  },
  {
   "cell_type": "code",
   "execution_count": null,
   "id": "bfa035b6",
   "metadata": {},
   "outputs": [],
   "source": [
    "protein_gene = dict()\n",
    "for gene, protein in gene_protein.items():\n",
    "    protein_gene[protein] = gene"
   ]
  },
  {
   "cell_type": "code",
   "execution_count": null,
   "id": "02294954",
   "metadata": {},
   "outputs": [],
   "source": [
    "data_genes = []\n",
    "datafile = open('../data/tiana_etal_science_advances_2022.csv')\n",
    "header = next(datafile)\n",
    "for line in datafile:\n",
    "    s=line.strip().split(',')\n",
    "    data_genes.append(s[0])\n",
    "\n",
    "protein_gene_matches = 0\n",
    "for gene in data_genes:\n",
    "    if gene in gene_protein:\n",
    "        protein_gene_matches += 1 \n",
    "#         protein = gene_protein[gene]\n",
    "#         gene_graph.add_edge(('gene', gene), ('protein', protein), type='gene_protein')\n",
    "\n",
    "print('num genes in data               ', len(data_genes))\n",
    "print('num proteins matched to genes   ', protein_gene_matches)"
   ]
  },
  {
   "cell_type": "markdown",
   "id": "17fadf1c",
   "metadata": {},
   "source": [
    "## Protein protein interaction data (STRINGdb)"
   ]
  },
  {
   "cell_type": "code",
   "execution_count": 7,
   "id": "7e1c873f",
   "metadata": {},
   "outputs": [],
   "source": [
    "# Extract and transform relevant data from STRING database dump file\n",
    "def process_line(line):\n",
    "    s = line.strip().split(' ')\n",
    "    # Remove the 10090 prefix that indicates this is from the mouse species data in STRING\n",
    "    s[0] = s[0].split('.')[1]\n",
    "    s[1] = s[1].split('.')[1]\n",
    "    for i,c in enumerate(s[2:]):\n",
    "        s[i+2] = int(c)\n",
    "        \n",
    "    return s"
   ]
  },
  {
   "cell_type": "code",
   "execution_count": 8,
   "id": "2b96ac9e",
   "metadata": {},
   "outputs": [],
   "source": [
    "columns = [\n",
    "    'protein1',\n",
    "    'protein2',\n",
    "    'neighborhood',\n",
    "    'fusion',\n",
    "    'cooccurence',\n",
    "    'coexpression',\n",
    "    'experimental',\n",
    "    'database',\n",
    "    'textmining',\n",
    "    'combined_score']"
   ]
  },
  {
   "cell_type": "code",
   "execution_count": 9,
   "id": "40fa17c6",
   "metadata": {},
   "outputs": [
    {
     "name": "stdout",
     "output_type": "stream",
     "text": [
      "(0, 'protein1')\n",
      "(1, 'protein2')\n",
      "(2, 'neighborhood')\n",
      "(3, 'fusion')\n",
      "(4, 'cooccurence')\n",
      "(5, 'coexpression')\n",
      "(6, 'experimental')\n",
      "(7, 'database')\n",
      "(8, 'textmining')\n",
      "(9, 'combined_score')\n"
     ]
    }
   ],
   "source": [
    "for c in list(enumerate(columns)): print(c)"
   ]
  },
  {
   "cell_type": "code",
   "execution_count": 10,
   "id": "a0884e12",
   "metadata": {},
   "outputs": [],
   "source": [
    "# Use linux utility wc to quickly count the number of lines in the string data file\n",
    "n = !wc -l ../data/string_db_mouse_ppi.txt\n",
    "n = int(n[0].split(' ')[0])\n",
    "\n",
    "step = int(n/20)"
   ]
  },
  {
   "cell_type": "code",
   "execution_count": 79,
   "id": "8a539f54",
   "metadata": {},
   "outputs": [
    {
     "name": "stdout",
     "output_type": "stream",
     "text": [
      "0\n",
      "4\n",
      "9\n",
      "14\n",
      "19\n",
      "24\n",
      "29\n",
      "34\n",
      "39\n",
      "44\n",
      "49\n",
      "54\n",
      "59\n",
      "64\n",
      "69\n",
      "74\n",
      "79\n",
      "84\n",
      "89\n",
      "94\n",
      "99\n"
     ]
    }
   ],
   "source": [
    "# Create a networkx graph from the string data\n",
    "string_file = open('../data/string_db_mouse_ppi.txt')\n",
    "\n",
    "header = next(string_file)\n",
    "\n",
    "string_unmapped = 0\n",
    "\n",
    "string_graph = nx.Graph()\n",
    "for i,line in enumerate(string_file):\n",
    "    line = process_line(line)\n",
    "    src = line[0]\n",
    "    tgt = line[1]\n",
    "    coexpression = line[5]\n",
    "    experimental = line[6]\n",
    "    \n",
    "    string_graph.add_edge(src, tgt,\n",
    "                          coexpression=coexpression, experimental=experimental)\n",
    "#     if src in protein_gene and tgt in protein_gene:\n",
    "#         src_gene = protein_gene[src]\n",
    "#         tgt_gene = protein_gene[tgt]\n",
    "#         string_graph.add_edge(src_gene, tgt_gene,\n",
    "#                               coexpression=coexpression, experimental=experimental)\n",
    "#     else:\n",
    "#         string_unmapped += 1\n",
    "    # Print progress\n",
    "    if i%step==0:\n",
    "        print(int(i/n*100), flush=True)"
   ]
  },
  {
   "cell_type": "code",
   "execution_count": 80,
   "id": "8bb6ad4b",
   "metadata": {},
   "outputs": [
    {
     "data": {
      "text/plain": [
       "21317"
      ]
     },
     "execution_count": 80,
     "metadata": {},
     "output_type": "execute_result"
    }
   ],
   "source": [
    "len(string_graph)"
   ]
  },
  {
   "cell_type": "code",
   "execution_count": 81,
   "id": "ef8c595b",
   "metadata": {},
   "outputs": [],
   "source": [
    "pickle.dump(string_graph, open('../data/string_graph.pickle','wb'))"
   ]
  },
  {
   "cell_type": "markdown",
   "id": "5d1d4059",
   "metadata": {},
   "source": [
    "## Remove low quality edges from graph"
   ]
  },
  {
   "cell_type": "code",
   "execution_count": 82,
   "id": "137f3bf7",
   "metadata": {},
   "outputs": [],
   "source": [
    "filtered_graph = nx.Graph()\n",
    "for edge in string_graph.edges(data=True):\n",
    "    attrs = edge[2]\n",
    "#     if attrs['coexpression'] > 250:\n",
    "#         filtered_graph.add_edge(u_of_edge=edge[0], v_of_edge=edge[1], \n",
    "#                                 type='coexpression', weight=attrs['coexpression'])\n",
    "    if attrs['experimental'] > 250:\n",
    "        filtered_graph.add_edge(u_of_edge=edge[0], v_of_edge=edge[1], \n",
    "                                directed=False, effect=None, type='protein_protein', \n",
    "                                evidence='experimental', weight=attrs['experimental'])"
   ]
  },
  {
   "cell_type": "code",
   "execution_count": 83,
   "id": "d29cb40e",
   "metadata": {},
   "outputs": [
    {
     "data": {
      "text/plain": [
       "268575"
      ]
     },
     "execution_count": 83,
     "metadata": {},
     "output_type": "execute_result"
    }
   ],
   "source": [
    "filtered_graph.number_of_edges()"
   ]
  },
  {
   "cell_type": "code",
   "execution_count": 84,
   "id": "8ea8a825",
   "metadata": {},
   "outputs": [
    {
     "data": {
      "text/plain": [
       "14671"
      ]
     },
     "execution_count": 84,
     "metadata": {},
     "output_type": "execute_result"
    }
   ],
   "source": [
    "filtered_graph.number_of_nodes()"
   ]
  },
  {
   "cell_type": "markdown",
   "id": "44d3b976",
   "metadata": {},
   "source": [
    "## Load Transcription factors (TRRUST)"
   ]
  },
  {
   "cell_type": "code",
   "execution_count": 85,
   "id": "a3718587",
   "metadata": {},
   "outputs": [],
   "source": [
    "# These data files provide mappings between gene/protein names (TP53, NANOG, etc) to their Ensembl ID\n",
    "protein_names = pickle.load(open('../data/protein_names.pickle','rb'))\n",
    "gene_names = pickle.load(open('../data/gene_names.pickle','rb'))"
   ]
  },
  {
   "cell_type": "code",
   "execution_count": 125,
   "id": "d748f52e",
   "metadata": {},
   "outputs": [],
   "source": [
    "tf_graph = nx.DiGraph()\n",
    "n_tfs = 0\n",
    "for line in open('../data/trrust_rawdata.mouse.tsv'):\n",
    "    s = line.split('\\t')\n",
    "    src, tgt, etype, dois = s\n",
    "    src = src.upper()\n",
    "    tgt = tgt.upper()\n",
    "    if etype=='Activation':\n",
    "        effect = 'a'\n",
    "    elif etype=='Repression':\n",
    "        effect = 'i'\n",
    "    else:\n",
    "        effect = None\n",
    "    # Each protein and gene name can map to multiple different Ensembl ID's.\n",
    "    # For example, each a protein can be translated from multiple different splice variants, each of which has a \n",
    "    # unique Ensembl ID\n",
    "    # Below, we create connections between all ensembl id's associated with each source/target name\n",
    "    if src in protein_names and tgt in protein_names:\n",
    "        src_ids = protein_names[src]\n",
    "        tgt_ids = protein_names[tgt]\n",
    "        for src_id in src_ids:\n",
    "            for tgt_id in tgt_ids:\n",
    "                tf_graph.add_edge(src_id, tgt_id, directed=True, effect=effect, weight=None,\n",
    "                                  type='tf', dois=dois.strip())\n",
    "    n_tfs+=1"
   ]
  },
  {
   "cell_type": "code",
   "execution_count": 126,
   "id": "e4165952",
   "metadata": {},
   "outputs": [
    {
     "data": {
      "text/plain": [
       "8534"
      ]
     },
     "execution_count": 126,
     "metadata": {},
     "output_type": "execute_result"
    }
   ],
   "source": [
    "tf_graph.number_of_nodes()"
   ]
  },
  {
   "cell_type": "code",
   "execution_count": 127,
   "id": "6b94cdac",
   "metadata": {},
   "outputs": [
    {
     "data": {
      "text/plain": [
       "105539"
      ]
     },
     "execution_count": 127,
     "metadata": {},
     "output_type": "execute_result"
    }
   ],
   "source": [
    "tf_graph.number_of_edges()"
   ]
  },
  {
   "cell_type": "code",
   "execution_count": 128,
   "id": "4ec30203",
   "metadata": {},
   "outputs": [
    {
     "data": {
      "text/plain": [
       "7057"
      ]
     },
     "execution_count": 128,
     "metadata": {},
     "output_type": "execute_result"
    }
   ],
   "source": [
    "n_tfs"
   ]
  },
  {
   "cell_type": "markdown",
   "id": "9cc74176",
   "metadata": {},
   "source": [
    "## Combine protein-protein, transcription factors, and gene-protein interactions"
   ]
  },
  {
   "cell_type": "code",
   "execution_count": 129,
   "id": "e7f9ed33",
   "metadata": {},
   "outputs": [],
   "source": [
    "# data_proteins = [node for node in gene_graph.nodes() if node[0]=='protein']\n",
    "\n",
    "# data_genes = [node for node in gene_graph.nodes() if node[0]=='gene']"
   ]
  },
  {
   "cell_type": "code",
   "execution_count": 130,
   "id": "5a7176ba",
   "metadata": {},
   "outputs": [
    {
     "name": "stdout",
     "output_type": "stream",
     "text": [
      "1489 149\n"
     ]
    }
   ],
   "source": [
    "data_proteins = []\n",
    "unmapped_data_genes = 0\n",
    "for gene in data_genes:\n",
    "    if gene in gene_protein:\n",
    "        data_proteins.append(gene_protein[gene])\n",
    "    else:\n",
    "        unmapped_data_genes += 1\n",
    "print(len(data_proteins), unmapped_data_genes)"
   ]
  },
  {
   "cell_type": "code",
   "execution_count": 131,
   "id": "7a7d6a3d",
   "metadata": {},
   "outputs": [],
   "source": [
    "data_protein_interactions = filtered_graph.subgraph(data_proteins)"
   ]
  },
  {
   "cell_type": "code",
   "execution_count": 132,
   "id": "8a32ca0b",
   "metadata": {},
   "outputs": [
    {
     "data": {
      "text/plain": [
       "119"
      ]
     },
     "execution_count": 132,
     "metadata": {},
     "output_type": "execute_result"
    }
   ],
   "source": [
    "data_protein_interactions.number_of_nodes()"
   ]
  },
  {
   "cell_type": "code",
   "execution_count": 133,
   "id": "0d0d1e14",
   "metadata": {},
   "outputs": [
    {
     "data": {
      "text/plain": [
       "248"
      ]
     },
     "execution_count": 133,
     "metadata": {},
     "output_type": "execute_result"
    }
   ],
   "source": [
    "data_protein_interactions.number_of_edges()"
   ]
  },
  {
   "cell_type": "code",
   "execution_count": 134,
   "id": "32d720f0",
   "metadata": {},
   "outputs": [],
   "source": [
    "data_tfs = tf_graph.subgraph(data_proteins)"
   ]
  },
  {
   "cell_type": "code",
   "execution_count": 135,
   "id": "e9e0cb1a",
   "metadata": {},
   "outputs": [
    {
     "data": {
      "text/plain": [
       "399"
      ]
     },
     "execution_count": 135,
     "metadata": {},
     "output_type": "execute_result"
    }
   ],
   "source": [
    "data_tfs.number_of_nodes()"
   ]
  },
  {
   "cell_type": "code",
   "execution_count": 136,
   "id": "c5339e97",
   "metadata": {},
   "outputs": [
    {
     "data": {
      "text/plain": [
       "380"
      ]
     },
     "execution_count": 136,
     "metadata": {},
     "output_type": "execute_result"
    }
   ],
   "source": [
    "data_tfs.number_of_edges()"
   ]
  },
  {
   "cell_type": "code",
   "execution_count": 137,
   "id": "aaba9860",
   "metadata": {},
   "outputs": [],
   "source": [
    "combined = nx.compose(data_tfs, data_protein_interactions)"
   ]
  },
  {
   "cell_type": "code",
   "execution_count": 138,
   "id": "534b18bb",
   "metadata": {},
   "outputs": [
    {
     "data": {
      "text/plain": [
       "424"
      ]
     },
     "execution_count": 138,
     "metadata": {},
     "output_type": "execute_result"
    }
   ],
   "source": [
    "combined.number_of_nodes()"
   ]
  },
  {
   "cell_type": "code",
   "execution_count": 139,
   "id": "ad692939",
   "metadata": {},
   "outputs": [
    {
     "data": {
      "text/plain": [
       "463"
      ]
     },
     "execution_count": 139,
     "metadata": {},
     "output_type": "execute_result"
    }
   ],
   "source": [
    "combined.number_of_edges()"
   ]
  },
  {
   "cell_type": "markdown",
   "id": "cd7a8761",
   "metadata": {},
   "source": [
    "## Filter the combined graph to only the largest connected component\n",
    "\n",
    "The rationale for this is that most of the disconnected components are extremely small in size (i.e. a single gene-protein pair), meaning that we don't have good prior knowledge for how they are regulated by other genes/proteins in the system.  \n",
    "\n",
    "Instead we are only interested in the \"core\" set of interacting genes. These are presumably the set that are most strongly influenced by the induction of NANOG, while the genes/proteins in the disconnected components might be regulated primarily by other systems."
   ]
  },
  {
   "cell_type": "code",
   "execution_count": 140,
   "id": "ebc87358",
   "metadata": {},
   "outputs": [
    {
     "data": {
      "text/plain": [
       "[262, 2, 2, 2, 2, 2, 2, 1, 1, 1]"
      ]
     },
     "execution_count": 140,
     "metadata": {},
     "output_type": "execute_result"
    }
   ],
   "source": [
    "# Size of the connected components of the network\n",
    "sorted([len(cc) for cc in nx.weakly_connected_components(combined)], reverse=True)[:10]"
   ]
  },
  {
   "cell_type": "code",
   "execution_count": 141,
   "id": "114f0cc8",
   "metadata": {},
   "outputs": [],
   "source": [
    "# Grab the subgraph corresponding to the largest connected component\n",
    "connected_graph_nodes = sorted([cc for cc in nx.weakly_connected_components(combined)], key=len, reverse=True)[0]\n",
    "connected_graph = combined.subgraph(connected_graph_nodes)"
   ]
  },
  {
   "cell_type": "code",
   "execution_count": 142,
   "id": "f7df4197",
   "metadata": {},
   "outputs": [
    {
     "name": "stdout",
     "output_type": "stream",
     "text": [
      "True\n",
      "262\n",
      "456\n"
     ]
    }
   ],
   "source": [
    "# Basic quality checks to ensure that the connected component subgraph is correct\n",
    "print(nx.is_weakly_connected(connected_graph))\n",
    "print(nx.number_of_nodes(connected_graph))\n",
    "print(nx.number_of_edges(connected_graph))"
   ]
  },
  {
   "cell_type": "code",
   "execution_count": 143,
   "id": "49798ff9",
   "metadata": {},
   "outputs": [],
   "source": [
    "from collections import Counter\n",
    "from pprint import pprint"
   ]
  },
  {
   "cell_type": "markdown",
   "id": "6fac044a",
   "metadata": {},
   "source": [
    "## Remove nodes with outdegree = 0"
   ]
  },
  {
   "cell_type": "code",
   "execution_count": 144,
   "id": "b0981ad6",
   "metadata": {},
   "outputs": [
    {
     "name": "stdout",
     "output_type": "stream",
     "text": [
      "111\n",
      "25\n",
      "6\n",
      "1\n",
      "0\n"
     ]
    }
   ],
   "source": [
    "removal_count = 1 # placeholder\n",
    "\n",
    "filtered_graph = connected_graph.copy()\n",
    "\n",
    "# If a node (A) has only out edge is to another node (B) that is removed, then A will have zero outdegree after B \n",
    "# is removed. Then, we have to run another pass to remove A. We repeat this process until all \n",
    "# nodes have outdegree > 0\n",
    "output_nodes = []\n",
    "while removal_count > 0:\n",
    "    zeros = []\n",
    "    for node in filtered_graph.nodes:\n",
    "#         in_degree = filtered_graph.in_degree[node]\n",
    "        out_degree = filtered_graph.out_degree[node]\n",
    "#         if in_degree == 0 or out_degree == 0:\n",
    "        if out_degree == 0:\n",
    "            zeros.append(node)\n",
    "    filtered_graph.remove_nodes_from(zeros)\n",
    "    removal_count = len(zeros)\n",
    "    output_nodes += zeros\n",
    "    print(removal_count)"
   ]
  },
  {
   "cell_type": "code",
   "execution_count": 145,
   "id": "87f3626c",
   "metadata": {},
   "outputs": [
    {
     "name": "stdout",
     "output_type": "stream",
     "text": [
      "119\n",
      "248\n",
      "143\n"
     ]
    }
   ],
   "source": [
    "print(filtered_graph.number_of_nodes())\n",
    "print(filtered_graph.number_of_edges())\n",
    "print(len(output_nodes))"
   ]
  },
  {
   "cell_type": "code",
   "execution_count": 146,
   "id": "caeafead",
   "metadata": {},
   "outputs": [],
   "source": [
    "pickle.dump(output_nodes, open('output_nodes.pickle','wb'))"
   ]
  },
  {
   "cell_type": "code",
   "execution_count": 147,
   "id": "e485e256",
   "metadata": {},
   "outputs": [
    {
     "data": {
      "text/plain": [
       "119"
      ]
     },
     "execution_count": 147,
     "metadata": {},
     "output_type": "execute_result"
    }
   ],
   "source": [
    "filtered_graph.number_of_nodes()"
   ]
  },
  {
   "cell_type": "code",
   "execution_count": 148,
   "id": "7546691a",
   "metadata": {},
   "outputs": [
    {
     "data": {
      "text/plain": [
       "248"
      ]
     },
     "execution_count": 148,
     "metadata": {},
     "output_type": "execute_result"
    }
   ],
   "source": [
    "filtered_graph.number_of_edges()"
   ]
  },
  {
   "cell_type": "markdown",
   "id": "764b6f1e",
   "metadata": {},
   "source": [
    "### Statistics of largest connected component"
   ]
  },
  {
   "cell_type": "code",
   "execution_count": 149,
   "id": "4d627719",
   "metadata": {},
   "outputs": [
    {
     "name": "stdout",
     "output_type": "stream",
     "text": [
      "[('tf', 162), ('protein_protein', 86)]\n"
     ]
    }
   ],
   "source": [
    "# Edge types in the giant component\n",
    "edge_types = Counter()\n",
    "for edge in filtered_graph.edges(data=True):\n",
    "    edge_types[edge[2]['type']] += 1\n",
    "pprint(edge_types.most_common())"
   ]
  },
  {
   "cell_type": "code",
   "execution_count": 150,
   "id": "3eb2e1d1",
   "metadata": {},
   "outputs": [
    {
     "data": {
      "text/plain": [
       "2.0840336134453783"
      ]
     },
     "execution_count": 150,
     "metadata": {},
     "output_type": "execute_result"
    }
   ],
   "source": [
    "# Average degree\n",
    "nx.number_of_edges(filtered_graph)/nx.number_of_nodes(filtered_graph)"
   ]
  },
  {
   "cell_type": "markdown",
   "id": "d2643452",
   "metadata": {},
   "source": [
    "### Degree distribution of largest filtered component"
   ]
  },
  {
   "cell_type": "code",
   "execution_count": 151,
   "id": "44ea594d",
   "metadata": {},
   "outputs": [
    {
     "data": {
      "image/png": "[encoded data removed]",
      "text/plain": [
       "<Figure size 640x480 with 1 Axes>"
      ]
     },
     "metadata": {},
     "output_type": "display_data"
    }
   ],
   "source": [
    "# in degree\n",
    "plt.hist(dict(filtered_graph.in_degree).values(), bins=20);"
   ]
  },
  {
   "cell_type": "code",
   "execution_count": 152,
   "id": "4bbfebf5",
   "metadata": {},
   "outputs": [
    {
     "data": {
      "image/png": "[encoded data removed]",
      "text/plain": [
       "<Figure size 640x480 with 1 Axes>"
      ]
     },
     "metadata": {},
     "output_type": "display_data"
    }
   ],
   "source": [
    "# out degree\n",
    "plt.hist(dict(filtered_graph.out_degree).values(), bins=20);"
   ]
  },
  {
   "cell_type": "code",
   "execution_count": 153,
   "id": "dc241fc4",
   "metadata": {},
   "outputs": [
    {
     "name": "stdout",
     "output_type": "stream",
     "text": [
      "(0, 38)\n",
      "(1, 25)\n",
      "(2, 23)\n",
      "(3, 10)\n",
      "(4, 7)\n",
      "(6, 5)\n",
      "(5, 3)\n",
      "(8, 2)\n",
      "(7, 2)\n",
      "(9, 1)\n",
      "(14, 1)\n",
      "(11, 1)\n",
      "(10, 1)\n"
     ]
    }
   ],
   "source": [
    "for x in Counter(dict(filtered_graph.in_degree).values()).most_common():\n",
    "    print(x)"
   ]
  },
  {
   "cell_type": "code",
   "execution_count": 154,
   "id": "97e4d8fc",
   "metadata": {},
   "outputs": [
    {
     "name": "stdout",
     "output_type": "stream",
     "text": [
      "(1, 62)\n",
      "(2, 24)\n",
      "(3, 13)\n",
      "(4, 10)\n",
      "(5, 7)\n",
      "(6, 2)\n",
      "(12, 1)\n"
     ]
    }
   ],
   "source": [
    "for x in Counter(dict(filtered_graph.out_degree).values()).most_common():\n",
    "    print(x)"
   ]
  },
  {
   "cell_type": "markdown",
   "id": "b9aedff8",
   "metadata": {},
   "source": [
    "## Check that NANOG is in the largest connected component"
   ]
  },
  {
   "cell_type": "code",
   "execution_count": 155,
   "id": "4c941619",
   "metadata": {},
   "outputs": [
    {
     "name": "stdout",
     "output_type": "stream",
     "text": [
      "ENSMUSP00000012540 14 5\n"
     ]
    }
   ],
   "source": [
    "nanog_ids = protein_names['NANOG']\n",
    "for nanog_id in nanog_ids:\n",
    "    nanog_id = nanog_id\n",
    "    if nanog_id in connected_graph:\n",
    "        print(nanog_id, filtered_graph.in_degree[nanog_id], filtered_graph.out_degree[nanog_id])"
   ]
  },
  {
   "cell_type": "markdown",
   "id": "88e01510",
   "metadata": {},
   "source": [
    "## Export connected component in gephi compatible format"
   ]
  },
  {
   "cell_type": "code",
   "execution_count": 156,
   "id": "a2e2f8c7",
   "metadata": {},
   "outputs": [],
   "source": [
    "nodefile = open('../data/connected_graph_nodes.csv','w')\n",
    "nodefile.write('Id,data\\n')\n",
    "for node in filtered_graph.nodes():\n",
    "    nodefile.write(node + '\\n')\n",
    "nodefile.close()"
   ]
  },
  {
   "cell_type": "code",
   "execution_count": 157,
   "id": "496c2bc0",
   "metadata": {},
   "outputs": [
    {
     "data": {
      "text/plain": [
       "{'directed', 'effect', 'evidence', 'type', 'weight'}"
      ]
     },
     "execution_count": 157,
     "metadata": {},
     "output_type": "execute_result"
    }
   ],
   "source": [
    "set(attrs.keys())"
   ]
  },
  {
   "cell_type": "code",
   "execution_count": 158,
   "id": "58867435",
   "metadata": {},
   "outputs": [],
   "source": [
    "all_attrs = set()\n",
    "for edge in filtered_graph.edges(data=True):\n",
    "    src, tgt, attrs = edge\n",
    "    for key in attrs.keys():\n",
    "        all_attrs.add(key)"
   ]
  },
  {
   "cell_type": "code",
   "execution_count": 159,
   "id": "c829ea70",
   "metadata": {},
   "outputs": [],
   "source": [
    "all_attrs = list(all_attrs)"
   ]
  },
  {
   "cell_type": "code",
   "execution_count": 160,
   "id": "507b3ec0",
   "metadata": {},
   "outputs": [],
   "source": [
    "edgefile = open('../data/connected_graph_edges.csv','w')\n",
    "edgefile.write('Source,Target,'+','.join(all_attrs)+'\\n')\n",
    "for edge in filtered_graph.edges(data=True):\n",
    "    src, tgt, attrs = edge\n",
    "    line = [src, tgt]\n",
    "    for attr in all_attrs:\n",
    "        if attr in attrs:\n",
    "            line.append(attrs[attr])\n",
    "        else:\n",
    "            line.append('')\n",
    "\n",
    "    edgefile.write(','.join([str(_) for _ in line]) + '\\n')\n",
    "edgefile.close()"
   ]
  },
  {
   "cell_type": "markdown",
   "id": "a28b911b",
   "metadata": {},
   "source": [
    "## Export graph as pickle"
   ]
  },
  {
   "cell_type": "code",
   "execution_count": 161,
   "id": "73ab5e1b",
   "metadata": {},
   "outputs": [],
   "source": [
    "pickle.dump(filtered_graph, open('../data/filtered_graph.pickle','wb'))"
   ]
  }
 ],
 "metadata": {
  "kernelspec": {
   "display_name": "Python [conda env:mesoderm]",
   "language": "python",
   "name": "conda-env-mesoderm-py"
  },
  "language_info": {
   "codemirror_mode": {
    "name": "ipython",
    "version": 3
   },
   "file_extension": ".py",
   "mimetype": "text/x-python",
   "name": "python",
   "nbconvert_exporter": "python",
   "pygments_lexer": "ipython3",
   "version": "3.10.6"
  }
 },
 "nbformat": 4,
 "nbformat_minor": 5
}
