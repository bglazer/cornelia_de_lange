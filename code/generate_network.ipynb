{
 "cells": [
  {
   "cell_type": "markdown",
   "id": "ec21059d",
   "metadata": {},
   "source": [
    "# Generate network of genes and proteins up/down regulated by NANOG induction\n",
    "\n",
    "Based on data from Tiana et al. Science Advances, 2022, in which the authors \"aimed to understand the role of Oct4 and Nanog beyond pluripotency. We have characterized the transcriptional changes caused by gain of function of these factors and determined that they regulate many developmental regulators in a dual fashion, repressing their expression at E7.5 and activating them at E9.5\"\n",
    "\n",
    "Here, I combined their list of up/down regulated genes with protein-protein interaction and transcription factor databases to generate a network that describes connections between the different genes and their respective proteins."
   ]
  },
  {
   "cell_type": "code",
   "execution_count": 1,
   "id": "57b276dc",
   "metadata": {},
   "outputs": [],
   "source": [
    "import json\n",
    "import pickle\n",
    "import networkx as nx"
   ]
  },
  {
   "cell_type": "code",
   "execution_count": 2,
   "id": "90a9bb31",
   "metadata": {},
   "outputs": [],
   "source": [
    "from matplotlib import pyplot as plt"
   ]
  },
  {
   "cell_type": "code",
   "execution_count": 3,
   "id": "4da8c8a8",
   "metadata": {},
   "outputs": [],
   "source": [
    "from collections import defaultdict, Counter"
   ]
  },
  {
   "cell_type": "code",
   "execution_count": 4,
   "id": "a164bab6",
   "metadata": {},
   "outputs": [],
   "source": [
    "# Set the random seed for reproducibility in python\n",
    "import random\n",
    "random.seed(42)"
   ]
  },
  {
   "cell_type": "code",
   "execution_count": 5,
   "id": "998be902",
   "metadata": {},
   "outputs": [],
   "source": [
    "## Match genes in Tiana et al data to their respective proteins"
   ]
  },
  {
   "cell_type": "code",
   "execution_count": 6,
   "id": "48494bf7",
   "metadata": {},
   "outputs": [],
   "source": [
    "gene_protein = pickle.load(open('../data/gene_protein_ids.pickle','rb'))"
   ]
  },
  {
   "cell_type": "code",
   "execution_count": 7,
   "id": "bfa035b6",
   "metadata": {},
   "outputs": [],
   "source": [
    "protein_gene = dict()\n",
    "for gene, protein in gene_protein.items():\n",
    "    protein_gene[protein] = gene"
   ]
  },
  {
   "cell_type": "code",
   "execution_count": 8,
   "id": "02294954",
   "metadata": {},
   "outputs": [
    {
     "name": "stdout",
     "output_type": "stream",
     "text": [
      "num genes in data                1333\n"
     ]
    }
   ],
   "source": [
    "datafile = open('../data/tiana_etal_differential_expression.csv')\n",
    "header = next(datafile)\n",
    "fold_changes = dict()\n",
    "for line in datafile:\n",
    "    gene, sign, fold_change = line.strip().split(',')\n",
    "    fold_changes[gene] = fold_change\n",
    "\n",
    "print('num genes in data               ', len(fold_changes))"
   ]
  },
  {
   "cell_type": "markdown",
   "id": "17fadf1c",
   "metadata": {},
   "source": [
    "## Protein protein interaction data (STRINGdb)"
   ]
  },
  {
   "cell_type": "code",
   "execution_count": 9,
   "id": "7e1c873f",
   "metadata": {},
   "outputs": [],
   "source": [
    "# Extract and transform relevant data from STRING database dump file\n",
    "def process_line(line):\n",
    "    s = line.strip().split(' ')\n",
    "    # Remove the 10090 prefix that indicates this is from the mouse species data in STRING\n",
    "    s[0] = s[0].split('.')[1]\n",
    "    s[1] = s[1].split('.')[1]\n",
    "    for i,c in enumerate(s[2:]):\n",
    "        s[i+2] = int(c)\n",
    "        \n",
    "    return s"
   ]
  },
  {
   "cell_type": "code",
   "execution_count": 10,
   "id": "2b96ac9e",
   "metadata": {},
   "outputs": [],
   "source": [
    "columns = [\n",
    "    'protein1',\n",
    "    'protein2',\n",
    "    'neighborhood',\n",
    "    'fusion',\n",
    "    'cooccurence',\n",
    "    'coexpression',\n",
    "    'experimental',\n",
    "    'database',\n",
    "    'textmining',\n",
    "    'combined_score']"
   ]
  },
  {
   "cell_type": "code",
   "execution_count": 11,
   "id": "40fa17c6",
   "metadata": {},
   "outputs": [
    {
     "name": "stdout",
     "output_type": "stream",
     "text": [
      "(0, 'protein1')\n",
      "(1, 'protein2')\n",
      "(2, 'neighborhood')\n",
      "(3, 'fusion')\n",
      "(4, 'cooccurence')\n",
      "(5, 'coexpression')\n",
      "(6, 'experimental')\n",
      "(7, 'database')\n",
      "(8, 'textmining')\n",
      "(9, 'combined_score')\n"
     ]
    }
   ],
   "source": [
    "for c in list(enumerate(columns)): print(c)"
   ]
  },
  {
   "cell_type": "code",
   "execution_count": 12,
   "id": "a0884e12",
   "metadata": {},
   "outputs": [],
   "source": [
    "# Use linux utility wc to quickly count the number of lines in the string data file\n",
    "n = !wc -l ../data/string_db_mouse_ppi.txt\n",
    "n = int(n[0].split(' ')[0])\n",
    "\n",
    "step = int(n/20)"
   ]
  },
  {
   "cell_type": "code",
   "execution_count": 13,
   "id": "8a539f54",
   "metadata": {},
   "outputs": [
    {
     "name": "stdout",
     "output_type": "stream",
     "text": [
      "0\n",
      "4\n",
      "9\n",
      "14\n",
      "19\n",
      "24\n",
      "29\n",
      "34\n",
      "39\n",
      "44\n",
      "49\n",
      "54\n",
      "59\n",
      "64\n",
      "69\n",
      "74\n",
      "79\n",
      "84\n",
      "89\n",
      "94\n",
      "99\n"
     ]
    }
   ],
   "source": [
    "# Create a networkx graph from the string data\n",
    "string_file = open('../data/string_db_mouse_ppi.txt')\n",
    "\n",
    "header = next(string_file)\n",
    "\n",
    "string_unmapped = 0\n",
    "\n",
    "string_graph = nx.Graph()\n",
    "for i,line in enumerate(string_file):\n",
    "    line = process_line(line)\n",
    "    src = line[0]\n",
    "    tgt = line[1]\n",
    "    coexpression = line[5]\n",
    "    experimental = line[6]\n",
    "    \n",
    "    string_graph.add_edge(src, tgt,\n",
    "                        coexpression=coexpression, experimental=experimental)\n",
    "#     if src in protein_gene and tgt in protein_gene:\n",
    "#         src_gene = protein_gene[src]\n",
    "#         tgt_gene = protein_gene[tgt]\n",
    "#         string_graph.add_edge(src_gene, tgt_gene,\n",
    "#                               coexpression=coexpression, experimental=experimental)\n",
    "#     else:\n",
    "#         string_unmapped += 1\n",
    "    # Print progress\n",
    "    if i%step==0:\n",
    "        print(int(i/n*100), flush=True)"
   ]
  },
  {
   "cell_type": "code",
   "execution_count": 14,
   "id": "8bb6ad4b",
   "metadata": {},
   "outputs": [
    {
     "data": {
      "text/plain": [
       "21317"
      ]
     },
     "execution_count": 14,
     "metadata": {},
     "output_type": "execute_result"
    }
   ],
   "source": [
    "len(string_graph)"
   ]
  },
  {
   "cell_type": "code",
   "execution_count": 15,
   "id": "ef8c595b",
   "metadata": {},
   "outputs": [],
   "source": [
    "# pickle.dump(string_graph, open('../data/string_graph.pickle','wb'))"
   ]
  },
  {
   "attachments": {},
   "cell_type": "markdown",
   "id": "5d1d4059",
   "metadata": {},
   "source": [
    "## Remove low quality edges from String PPI graph"
   ]
  },
  {
   "cell_type": "code",
   "execution_count": 16,
   "id": "137f3bf7",
   "metadata": {},
   "outputs": [],
   "source": [
    "protein_graph = nx.Graph()\n",
    "for edge in string_graph.edges(data=True):\n",
    "    attrs = edge[2]\n",
    "#     if attrs['coexpression'] > 250:\n",
    "#         filtered_graph.add_edge(u_of_edge=edge[0], v_of_edge=edge[1], \n",
    "#                                 type='coexpression', weight=attrs['coexpression'])\n",
    "    if attrs['experimental'] > 250:\n",
    "        protein_graph.add_edge(u_of_edge=edge[0], v_of_edge=edge[1], \n",
    "                                directed=True, effect=None, edge_type='protein_protein', \n",
    "                                evidence='experimental', weight=attrs['experimental']/1000)"
   ]
  },
  {
   "cell_type": "code",
   "execution_count": 17,
   "id": "65c592b8",
   "metadata": {},
   "outputs": [],
   "source": [
    "protein_graph = protein_graph.to_directed()"
   ]
  },
  {
   "cell_type": "code",
   "execution_count": 18,
   "id": "d29cb40e",
   "metadata": {},
   "outputs": [
    {
     "data": {
      "text/plain": [
       "537150"
      ]
     },
     "execution_count": 18,
     "metadata": {},
     "output_type": "execute_result"
    }
   ],
   "source": [
    "protein_graph.number_of_edges()"
   ]
  },
  {
   "cell_type": "code",
   "execution_count": 19,
   "id": "770666a5",
   "metadata": {},
   "outputs": [
    {
     "data": {
      "text/plain": [
       "True"
      ]
     },
     "execution_count": 19,
     "metadata": {},
     "output_type": "execute_result"
    }
   ],
   "source": [
    "protein_graph.is_directed()"
   ]
  },
  {
   "cell_type": "code",
   "execution_count": 20,
   "id": "8ea8a825",
   "metadata": {},
   "outputs": [
    {
     "data": {
      "text/plain": [
       "14671"
      ]
     },
     "execution_count": 20,
     "metadata": {},
     "output_type": "execute_result"
    }
   ],
   "source": [
    "protein_graph.number_of_nodes()"
   ]
  },
  {
   "cell_type": "markdown",
   "id": "44d3b976",
   "metadata": {},
   "source": [
    "## Load Transcription factors (TRRUST)"
   ]
  },
  {
   "cell_type": "code",
   "execution_count": 21,
   "id": "a3718587",
   "metadata": {},
   "outputs": [],
   "source": [
    "# These data files provide mappings between gene/protein names (TP53, NANOG, etc) to their Ensembl ID\n",
    "protein_names = pickle.load(open('../data/protein_names.pickle','rb'))\n",
    "gene_names = pickle.load(open('../data/gene_names.pickle','rb'))\n",
    "\n",
    "protein_id_names = pickle.load(open('../data/protein_id_to_name.pickle','rb'))\n",
    "gene_id_names = pickle.load(open('../data/gene_id_to_name.pickle','rb'))"
   ]
  },
  {
   "cell_type": "code",
   "execution_count": 22,
   "id": "d748f52e",
   "metadata": {},
   "outputs": [],
   "source": [
    "tf_graph = nx.DiGraph()\n",
    "n_tfs = 0\n",
    "for line in open('../data/trrust_rawdata.mouse.tsv'):\n",
    "    s = line.split('\\t')\n",
    "    src, tgt, etype, dois = s\n",
    "    src = src.upper()\n",
    "    tgt = tgt.upper()\n",
    "    if etype=='Activation':\n",
    "        effect = 'a'\n",
    "    elif etype=='Repression':\n",
    "        effect = 'i'\n",
    "    else:\n",
    "        effect = None\n",
    "    # Each protein and gene name can map to multiple different Ensembl ID's.\n",
    "    # For example, each a protein can be translated from multiple different splice variants, each of which has a \n",
    "    # unique Ensembl ID\n",
    "    # Below, we create connections between all ensembl id's associated with each source/target name\n",
    "    if src in protein_names and tgt in protein_names:\n",
    "        src_ids = protein_names[src]\n",
    "        tgt_ids = protein_names[tgt]\n",
    "        for src_id in src_ids:\n",
    "            for tgt_id in tgt_ids:\n",
    "                tf_graph.add_edge(src_id, tgt_id, directed=True, effect=effect, weight=None,\n",
    "                                  edge_type='tf', dois=dois.strip())\n",
    "    n_tfs+=1"
   ]
  },
  {
   "cell_type": "code",
   "execution_count": 23,
   "id": "e4165952",
   "metadata": {},
   "outputs": [
    {
     "data": {
      "text/plain": [
       "8287"
      ]
     },
     "execution_count": 23,
     "metadata": {},
     "output_type": "execute_result"
    }
   ],
   "source": [
    "tf_graph.number_of_nodes()"
   ]
  },
  {
   "cell_type": "code",
   "execution_count": 24,
   "id": "6b94cdac",
   "metadata": {},
   "outputs": [
    {
     "data": {
      "text/plain": [
       "95681"
      ]
     },
     "execution_count": 24,
     "metadata": {},
     "output_type": "execute_result"
    }
   ],
   "source": [
    "tf_graph.number_of_edges()"
   ]
  },
  {
   "cell_type": "code",
   "execution_count": 25,
   "id": "4ec30203",
   "metadata": {},
   "outputs": [
    {
     "data": {
      "text/plain": [
       "7057"
      ]
     },
     "execution_count": 25,
     "metadata": {},
     "output_type": "execute_result"
    }
   ],
   "source": [
    "n_tfs"
   ]
  },
  {
   "attachments": {},
   "cell_type": "markdown",
   "id": "9cc74176",
   "metadata": {},
   "source": [
    "## Combine protein-protein interactions and transcription factors"
   ]
  },
  {
   "cell_type": "code",
   "execution_count": 26,
   "id": "e7f9ed33",
   "metadata": {},
   "outputs": [],
   "source": [
    "# data_proteins = [node for node in gene_graph.nodes() if node[0]=='protein']\n",
    "\n",
    "# data_genes = [node for node in gene_graph.nodes() if node[0]=='gene']"
   ]
  },
  {
   "cell_type": "code",
   "execution_count": 27,
   "id": "5a7176ba",
   "metadata": {},
   "outputs": [],
   "source": [
    "data_proteins = list(fold_changes.keys())"
   ]
  },
  {
   "cell_type": "code",
   "execution_count": 28,
   "id": "7a7d6a3d",
   "metadata": {},
   "outputs": [],
   "source": [
    "data_protein_interactions = protein_graph.subgraph(data_proteins)"
   ]
  },
  {
   "cell_type": "code",
   "execution_count": 29,
   "id": "82d2ee79",
   "metadata": {},
   "outputs": [
    {
     "data": {
      "text/plain": [
       "True"
      ]
     },
     "execution_count": 29,
     "metadata": {},
     "output_type": "execute_result"
    }
   ],
   "source": [
    "data_protein_interactions.is_directed()"
   ]
  },
  {
   "cell_type": "code",
   "execution_count": 30,
   "id": "8a32ca0b",
   "metadata": {},
   "outputs": [
    {
     "data": {
      "text/plain": [
       "529"
      ]
     },
     "execution_count": 30,
     "metadata": {},
     "output_type": "execute_result"
    }
   ],
   "source": [
    "data_protein_interactions.number_of_nodes()"
   ]
  },
  {
   "cell_type": "code",
   "execution_count": 31,
   "id": "0d0d1e14",
   "metadata": {},
   "outputs": [
    {
     "data": {
      "text/plain": [
       "624"
      ]
     },
     "execution_count": 31,
     "metadata": {},
     "output_type": "execute_result"
    }
   ],
   "source": [
    "data_protein_interactions.number_of_edges()"
   ]
  },
  {
   "cell_type": "code",
   "execution_count": 32,
   "id": "32d720f0",
   "metadata": {},
   "outputs": [],
   "source": [
    "data_tfs = tf_graph.subgraph(data_proteins)"
   ]
  },
  {
   "cell_type": "code",
   "execution_count": 33,
   "id": "e9e0cb1a",
   "metadata": {},
   "outputs": [
    {
     "data": {
      "text/plain": [
       "380"
      ]
     },
     "execution_count": 33,
     "metadata": {},
     "output_type": "execute_result"
    }
   ],
   "source": [
    "data_tfs.number_of_nodes()"
   ]
  },
  {
   "cell_type": "code",
   "execution_count": 34,
   "id": "c5339e97",
   "metadata": {},
   "outputs": [
    {
     "data": {
      "text/plain": [
       "359"
      ]
     },
     "execution_count": 34,
     "metadata": {},
     "output_type": "execute_result"
    }
   ],
   "source": [
    "data_tfs.number_of_edges()"
   ]
  },
  {
   "cell_type": "code",
   "execution_count": 35,
   "id": "aaba9860",
   "metadata": {},
   "outputs": [],
   "source": [
    "combined = nx.compose(data_tfs, data_protein_interactions)"
   ]
  },
  {
   "cell_type": "code",
   "execution_count": 36,
   "id": "534b18bb",
   "metadata": {},
   "outputs": [
    {
     "data": {
      "text/plain": [
       "733"
      ]
     },
     "execution_count": 36,
     "metadata": {},
     "output_type": "execute_result"
    }
   ],
   "source": [
    "combined.number_of_nodes()"
   ]
  },
  {
   "cell_type": "code",
   "execution_count": 37,
   "id": "ad692939",
   "metadata": {},
   "outputs": [
    {
     "data": {
      "text/plain": [
       "975"
      ]
     },
     "execution_count": 37,
     "metadata": {},
     "output_type": "execute_result"
    }
   ],
   "source": [
    "combined.number_of_edges()"
   ]
  },
  {
   "cell_type": "code",
   "execution_count": 38,
   "id": "5ec77ccc",
   "metadata": {},
   "outputs": [
    {
     "name": "stdout",
     "output_type": "stream",
     "text": [
      "fold changes added 733\n",
      "number of nodes 733\n"
     ]
    }
   ],
   "source": [
    "# Add fold change data to nodes\n",
    "fold_changes_added = 0\n",
    "for node in combined.nodes:\n",
    "    if node in fold_changes:\n",
    "        combined.nodes[node]['fold_change'] = fold_changes[node]\n",
    "        fold_changes_added += 1\n",
    "    else:\n",
    "        combined.nodes[node]['fold_change'] = None\n",
    "print('fold changes added', fold_changes_added)\n",
    "print('number of nodes', combined.number_of_nodes())"
   ]
  },
  {
   "cell_type": "markdown",
   "id": "cd7a8761",
   "metadata": {},
   "source": [
    "## Filter the combined graph to only the largest connected component\n",
    "\n",
    "The rationale for this is that most of the disconnected components are extremely small in size (i.e. a single gene-protein pair), meaning that we don't have good prior knowledge for how they are regulated by other genes/proteins in the system.  \n",
    "\n",
    "Instead we are only interested in the \"core\" set of interacting genes. These are presumably the set that are most strongly influenced by the induction of NANOG, while the genes/proteins in the disconnected components might be regulated primarily by other systems."
   ]
  },
  {
   "cell_type": "code",
   "execution_count": 39,
   "id": "ebc87358",
   "metadata": {},
   "outputs": [
    {
     "data": {
      "text/plain": [
       "[363, 4, 4, 4, 3, 2, 2, 2, 2, 2]"
      ]
     },
     "execution_count": 39,
     "metadata": {},
     "output_type": "execute_result"
    }
   ],
   "source": [
    "# Size of the connected components of the network\n",
    "sorted([len(cc) for cc in nx.weakly_connected_components(combined)], reverse=True)[:10]"
   ]
  },
  {
   "cell_type": "code",
   "execution_count": 105,
   "id": "3ae3ac7c",
   "metadata": {},
   "outputs": [
    {
     "data": {
      "text/plain": [
       "341"
      ]
     },
     "execution_count": 105,
     "metadata": {},
     "output_type": "execute_result"
    }
   ],
   "source": [
    "len(list(nx.weakly_connected_components(combined)))"
   ]
  },
  {
   "cell_type": "code",
   "execution_count": 40,
   "id": "114f0cc8",
   "metadata": {},
   "outputs": [],
   "source": [
    "# Grab the subgraph corresponding to the largest connected component\n",
    "connected_graph_nodes = sorted([cc for cc in nx.weakly_connected_components(combined)], key=len, reverse=True)[0]\n",
    "connected_graph = combined.subgraph(connected_graph_nodes)"
   ]
  },
  {
   "cell_type": "code",
   "execution_count": 41,
   "id": "f7df4197",
   "metadata": {},
   "outputs": [
    {
     "name": "stdout",
     "output_type": "stream",
     "text": [
      "True\n",
      "363\n",
      "913\n"
     ]
    }
   ],
   "source": [
    "# Basic quality checks to ensure that the connected component subgraph is correct\n",
    "print(nx.is_weakly_connected(connected_graph))\n",
    "print(nx.number_of_nodes(connected_graph))\n",
    "print(nx.number_of_edges(connected_graph))"
   ]
  },
  {
   "cell_type": "code",
   "execution_count": 42,
   "id": "49798ff9",
   "metadata": {},
   "outputs": [],
   "source": [
    "from collections import Counter\n",
    "from pprint import pprint"
   ]
  },
  {
   "attachments": {},
   "cell_type": "markdown",
   "id": "6fac044a",
   "metadata": {},
   "source": [
    "## Remove nodes with outdegree = 0\n",
    "\n",
    "Nodes with only incoming edges aren't related to regulation of the rest of the nodes network, so we're not interested in modeling them. If we later determine that they are important to a phenotype, then we can assume that the other connected, regulatory nodes directly determine their state"
   ]
  },
  {
   "cell_type": "code",
   "execution_count": 43,
   "id": "b0981ad6",
   "metadata": {},
   "outputs": [
    {
     "name": "stdout",
     "output_type": "stream",
     "text": [
      "79\n",
      "13\n",
      "0\n"
     ]
    }
   ],
   "source": [
    "removal_count = 1 # placeholder\n",
    "\n",
    "filtered_graph = connected_graph.copy()\n",
    "\n",
    "# If a node (A) has only out edge is to another node (B) that is removed, then A will have zero outdegree after B \n",
    "# is removed. Then, we have to run another pass to remove A. We repeat this process until all \n",
    "# nodes have outdegree > 0\n",
    "output_nodes = []\n",
    "while removal_count > 0:\n",
    "    zeros = []\n",
    "    for node in filtered_graph.nodes:\n",
    "#         in_degree = filtered_graph.in_degree[node]\n",
    "        out_degree = filtered_graph.out_degree[node]\n",
    "#         if in_degree == 0 or out_degree == 0:\n",
    "        if out_degree == 0:\n",
    "            zeros.append(node)\n",
    "    filtered_graph.remove_nodes_from(zeros)\n",
    "    removal_count = len(zeros)\n",
    "    output_nodes += zeros\n",
    "    print(removal_count)"
   ]
  },
  {
   "cell_type": "code",
   "execution_count": 44,
   "id": "87f3626c",
   "metadata": {},
   "outputs": [
    {
     "name": "stdout",
     "output_type": "stream",
     "text": [
      "271\n",
      "775\n",
      "92\n"
     ]
    }
   ],
   "source": [
    "print(filtered_graph.number_of_nodes())\n",
    "print(filtered_graph.number_of_edges())\n",
    "print(len(output_nodes))"
   ]
  },
  {
   "cell_type": "code",
   "execution_count": 45,
   "id": "caeafead",
   "metadata": {},
   "outputs": [],
   "source": [
    "pickle.dump(output_nodes, open('output_nodes.pickle','wb'))"
   ]
  },
  {
   "cell_type": "code",
   "execution_count": 46,
   "id": "e485e256",
   "metadata": {},
   "outputs": [
    {
     "data": {
      "text/plain": [
       "271"
      ]
     },
     "execution_count": 46,
     "metadata": {},
     "output_type": "execute_result"
    }
   ],
   "source": [
    "filtered_graph.number_of_nodes()"
   ]
  },
  {
   "cell_type": "code",
   "execution_count": 47,
   "id": "7546691a",
   "metadata": {},
   "outputs": [
    {
     "data": {
      "text/plain": [
       "775"
      ]
     },
     "execution_count": 47,
     "metadata": {},
     "output_type": "execute_result"
    }
   ],
   "source": [
    "filtered_graph.number_of_edges()"
   ]
  },
  {
   "cell_type": "markdown",
   "id": "87a1e355",
   "metadata": {},
   "source": [
    "## Connect nodes with in-degree = 0"
   ]
  },
  {
   "cell_type": "markdown",
   "id": "82f0b10c",
   "metadata": {},
   "source": [
    "### Find all shortest paths to nodes with in-degree=0"
   ]
  },
  {
   "cell_type": "code",
   "execution_count": 48,
   "id": "e4943da1",
   "metadata": {},
   "outputs": [],
   "source": [
    "from joblib import Parallel, delayed"
   ]
  },
  {
   "cell_type": "code",
   "execution_count": 49,
   "id": "b3c8acf7",
   "metadata": {},
   "outputs": [],
   "source": [
    "from itertools import product"
   ]
  },
  {
   "cell_type": "code",
   "execution_count": 50,
   "id": "d426e83f",
   "metadata": {},
   "outputs": [],
   "source": [
    "zero_in = set()\n",
    "for node in filtered_graph.nodes:\n",
    "    if filtered_graph.in_degree[node]==0:\n",
    "        zero_in.add(node)"
   ]
  },
  {
   "cell_type": "code",
   "execution_count": 51,
   "id": "2c09ffd5",
   "metadata": {},
   "outputs": [
    {
     "name": "stdout",
     "output_type": "stream",
     "text": [
      "5149\n"
     ]
    }
   ],
   "source": [
    "combos = list(product(filtered_graph.nodes, zero_in))\n",
    "n_combos = len(combos)\n",
    "print(n_combos)"
   ]
  },
  {
   "cell_type": "code",
   "execution_count": 52,
   "id": "598fccd9",
   "metadata": {},
   "outputs": [],
   "source": [
    "full_graph = nx.compose(tf_graph, protein_graph)"
   ]
  },
  {
   "cell_type": "code",
   "execution_count": 53,
   "id": "313e3f94",
   "metadata": {},
   "outputs": [
    {
     "data": {
      "text/plain": [
       "20786"
      ]
     },
     "execution_count": 53,
     "metadata": {},
     "output_type": "execute_result"
    }
   ],
   "source": [
    "full_graph.number_of_nodes()"
   ]
  },
  {
   "cell_type": "code",
   "execution_count": 54,
   "id": "60ef644e",
   "metadata": {},
   "outputs": [
    {
     "data": {
      "text/plain": [
       "14671"
      ]
     },
     "execution_count": 54,
     "metadata": {},
     "output_type": "execute_result"
    }
   ],
   "source": [
    "protein_graph.number_of_nodes()"
   ]
  },
  {
   "cell_type": "code",
   "execution_count": 55,
   "id": "45553819",
   "metadata": {},
   "outputs": [
    {
     "data": {
      "text/plain": [
       "True"
      ]
     },
     "execution_count": 55,
     "metadata": {},
     "output_type": "execute_result"
    }
   ],
   "source": [
    "full_graph.is_directed()"
   ]
  },
  {
   "cell_type": "code",
   "execution_count": 56,
   "id": "f44e1085",
   "metadata": {},
   "outputs": [
    {
     "data": {
      "text/plain": [
       "34"
      ]
     },
     "execution_count": 56,
     "metadata": {},
     "output_type": "execute_result"
    }
   ],
   "source": [
    "len(list(nx.components.weakly_connected_components(full_graph)))"
   ]
  },
  {
   "cell_type": "code",
   "execution_count": 57,
   "id": "9fcebf2c",
   "metadata": {},
   "outputs": [
    {
     "name": "stdout",
     "output_type": "stream",
     "text": [
      "(2, 22)\n",
      "(3, 7)\n",
      "(4, 3)\n",
      "(5, 1)\n",
      "(20704, 1)\n"
     ]
    }
   ],
   "source": [
    "for x in sorted(Counter(len(component) for component in nx.components.weakly_connected_components(full_graph)).most_common()): print(x)"
   ]
  },
  {
   "cell_type": "code",
   "execution_count": 58,
   "id": "9cf44bf0",
   "metadata": {},
   "outputs": [
    {
     "data": {
      "text/plain": [
       "8287"
      ]
     },
     "execution_count": 58,
     "metadata": {},
     "output_type": "execute_result"
    }
   ],
   "source": [
    "tf_graph.number_of_nodes()"
   ]
  },
  {
   "cell_type": "code",
   "execution_count": 59,
   "id": "8e636e01",
   "metadata": {},
   "outputs": [
    {
     "data": {
      "text/plain": [
       "22958"
      ]
     },
     "execution_count": 59,
     "metadata": {},
     "output_type": "execute_result"
    }
   ],
   "source": [
    "protein_graph.number_of_nodes() + tf_graph.number_of_nodes()"
   ]
  },
  {
   "cell_type": "code",
   "execution_count": 60,
   "id": "4e520ef0",
   "metadata": {},
   "outputs": [
    {
     "data": {
      "text/plain": [
       "Counter({'ENSMUSP': 8287})"
      ]
     },
     "execution_count": 60,
     "metadata": {},
     "output_type": "execute_result"
    }
   ],
   "source": [
    "Counter([x[:7] for x in list(tf_graph.nodes())])"
   ]
  },
  {
   "cell_type": "code",
   "execution_count": 61,
   "id": "82ea3528",
   "metadata": {},
   "outputs": [
    {
     "data": {
      "text/plain": [
       "Counter({'ENSMUSP': 14671})"
      ]
     },
     "execution_count": 61,
     "metadata": {},
     "output_type": "execute_result"
    }
   ],
   "source": [
    "Counter([x[:7] for x in list(protein_graph.nodes())])"
   ]
  },
  {
   "cell_type": "code",
   "execution_count": 62,
   "id": "5c1c6a1c",
   "metadata": {},
   "outputs": [
    {
     "data": {
      "text/plain": [
       "2172"
      ]
     },
     "execution_count": 62,
     "metadata": {},
     "output_type": "execute_result"
    }
   ],
   "source": [
    "len(set(protein_graph.nodes()) & set(tf_graph.nodes()))"
   ]
  },
  {
   "cell_type": "code",
   "execution_count": 63,
   "id": "e7f1571b",
   "metadata": {},
   "outputs": [
    {
     "data": {
      "text/plain": [
       "6115"
      ]
     },
     "execution_count": 63,
     "metadata": {},
     "output_type": "execute_result"
    }
   ],
   "source": [
    "len(set(tf_graph.nodes()) - set(protein_graph.nodes()))"
   ]
  },
  {
   "cell_type": "code",
   "execution_count": 64,
   "id": "864d3c08",
   "metadata": {},
   "outputs": [
    {
     "data": {
      "text/plain": [
       "8287"
      ]
     },
     "execution_count": 64,
     "metadata": {},
     "output_type": "execute_result"
    }
   ],
   "source": [
    "len(set(tf_graph.nodes()))"
   ]
  },
  {
   "cell_type": "code",
   "execution_count": 65,
   "id": "ae5d726f",
   "metadata": {},
   "outputs": [
    {
     "data": {
      "text/plain": [
       "14671"
      ]
     },
     "execution_count": 65,
     "metadata": {},
     "output_type": "execute_result"
    }
   ],
   "source": [
    "len(set(protein_graph.nodes()))"
   ]
  },
  {
   "cell_type": "code",
   "execution_count": 66,
   "id": "c3158b62",
   "metadata": {},
   "outputs": [
    {
     "name": "stdout",
     "output_type": "stream",
     "text": [
      "107\n",
      "2160\n",
      "5149\n"
     ]
    }
   ],
   "source": [
    "one_hops = []\n",
    "nopaths = 0\n",
    "for a,b in combos:\n",
    "    try:\n",
    "        l = nx.shortest_path_length(full_graph, a,b)\n",
    "        if l == 2:\n",
    "            one_hops.append((a,b))\n",
    "#             print(l, nx.shortest_path(combined, a,b))\n",
    "    except nx.NetworkXNoPath as e:\n",
    "        nopaths += 1\n",
    "        continue\n",
    "        \n",
    "print(len(one_hops))\n",
    "print(nopaths)\n",
    "print(len(combos))"
   ]
  },
  {
   "cell_type": "code",
   "execution_count": 67,
   "id": "c5f895c4",
   "metadata": {},
   "outputs": [],
   "source": [
    "one_hops = list(one_hops)"
   ]
  },
  {
   "cell_type": "code",
   "execution_count": 68,
   "id": "1ee1d4a4",
   "metadata": {},
   "outputs": [],
   "source": [
    "import numpy as np"
   ]
  },
  {
   "cell_type": "code",
   "execution_count": 69,
   "id": "2911c949",
   "metadata": {},
   "outputs": [],
   "source": [
    "def segment(lst, n):\n",
    "    idxs = np.linspace(start=0, stop=len(lst)-1, num=n, dtype=int)\n",
    "    segments = []\n",
    "    for i in range(len(idxs)-1):\n",
    "        a=idxs[i]\n",
    "        b=idxs[i+1]\n",
    "        segments.append((a,b))\n",
    "    return segments"
   ]
  },
  {
   "cell_type": "code",
   "execution_count": 70,
   "id": "518e9ff3",
   "metadata": {},
   "outputs": [],
   "source": [
    "segments = segment(one_hops, n=10)"
   ]
  },
  {
   "cell_type": "code",
   "execution_count": 71,
   "id": "14041797",
   "metadata": {},
   "outputs": [],
   "source": [
    "def shortest_paths(idxs):\n",
    "    all_paths = []\n",
    "    for idx in range(idxs[0], idxs[1]):\n",
    "        a, b = one_hops[idx]\n",
    "        paths = nx.all_shortest_paths(full_graph, a,b)\n",
    "        all_paths += paths\n",
    "    return all_paths"
   ]
  },
  {
   "cell_type": "code",
   "execution_count": 72,
   "id": "0f7d2507",
   "metadata": {},
   "outputs": [],
   "source": [
    "paths = shortest_paths((0,len(one_hops)))"
   ]
  },
  {
   "cell_type": "code",
   "execution_count": 73,
   "id": "725a8b14",
   "metadata": {},
   "outputs": [
    {
     "data": {
      "text/plain": [
       "10"
      ]
     },
     "execution_count": 73,
     "metadata": {},
     "output_type": "execute_result"
    }
   ],
   "source": [
    "len(set([p[-1] for p in paths]))"
   ]
  },
  {
   "cell_type": "code",
   "execution_count": 74,
   "id": "ea98f5e5",
   "metadata": {},
   "outputs": [
    {
     "data": {
      "text/plain": [
       "19"
      ]
     },
     "execution_count": 74,
     "metadata": {},
     "output_type": "execute_result"
    }
   ],
   "source": [
    "len(zero_in)"
   ]
  },
  {
   "cell_type": "code",
   "execution_count": 75,
   "id": "fa9df537",
   "metadata": {},
   "outputs": [],
   "source": [
    "from collections import defaultdict"
   ]
  },
  {
   "cell_type": "code",
   "execution_count": 76,
   "id": "b33b6c4f",
   "metadata": {},
   "outputs": [],
   "source": [
    "intermediates = defaultdict(set)\n",
    "for path in paths:\n",
    "    intermediates[path[1]].add(path[-1])\n",
    "intermediates = dict(intermediates)"
   ]
  },
  {
   "cell_type": "code",
   "execution_count": 77,
   "id": "cae90f0e",
   "metadata": {},
   "outputs": [],
   "source": [
    "# modified from http://www.martinbroadhurst.com/greedy-set-cover-in-python.html\n",
    "def set_cover(universe, subsets):\n",
    "    \"\"\"Find a family of subsets that covers the universal set\"\"\"\n",
    "    elements = set(e for s in subsets.values() for e in s)\n",
    "    # Check the subsets cover the universe\n",
    "    if elements != universe:\n",
    "        print(\"Can't cover full set, finding maximum covering\")\n",
    "    covered = set()\n",
    "    cover = []\n",
    "    keys = []\n",
    "    # Greedily add the subsets with the most uncovered points\n",
    "    while covered != elements:\n",
    "        key = max(subsets, key=lambda s: len(subsets[s] - covered))\n",
    "        cover.append(subsets[key])\n",
    "        covered |= subsets[key]\n",
    "        keys.append(key)\n",
    " \n",
    "    return keys, cover\n",
    " "
   ]
  },
  {
   "cell_type": "code",
   "execution_count": 78,
   "id": "492f402b",
   "metadata": {},
   "outputs": [
    {
     "name": "stdout",
     "output_type": "stream",
     "text": [
      "Can't cover full set, finding maximum covering\n"
     ]
    }
   ],
   "source": [
    "connectors, cover = set_cover(zero_in, intermediates)"
   ]
  },
  {
   "cell_type": "code",
   "execution_count": 79,
   "id": "702b526c",
   "metadata": {},
   "outputs": [
    {
     "data": {
      "text/plain": [
       "9"
      ]
     },
     "execution_count": 79,
     "metadata": {},
     "output_type": "execute_result"
    }
   ],
   "source": [
    "len(connectors)"
   ]
  },
  {
   "cell_type": "code",
   "execution_count": 80,
   "id": "c4ab215c",
   "metadata": {},
   "outputs": [
    {
     "data": {
      "text/plain": [
       "10"
      ]
     },
     "execution_count": 80,
     "metadata": {},
     "output_type": "execute_result"
    }
   ],
   "source": [
    "len(set(e for s in cover for e in s))"
   ]
  },
  {
   "cell_type": "markdown",
   "id": "0dcf5a17",
   "metadata": {},
   "source": [
    "## Add connecting nodes back to the filtered graph"
   ]
  },
  {
   "cell_type": "code",
   "execution_count": 81,
   "id": "da43ce91",
   "metadata": {},
   "outputs": [],
   "source": [
    "all_nodes = set(list(filtered_graph.nodes()) + connectors)"
   ]
  },
  {
   "cell_type": "code",
   "execution_count": 82,
   "id": "9deb81a2",
   "metadata": {},
   "outputs": [
    {
     "data": {
      "text/plain": [
       "280"
      ]
     },
     "execution_count": 82,
     "metadata": {},
     "output_type": "execute_result"
    }
   ],
   "source": [
    "len(all_nodes)"
   ]
  },
  {
   "cell_type": "code",
   "execution_count": 83,
   "id": "9373f746",
   "metadata": {},
   "outputs": [
    {
     "data": {
      "text/plain": [
       "271"
      ]
     },
     "execution_count": 83,
     "metadata": {},
     "output_type": "execute_result"
    }
   ],
   "source": [
    "len(filtered_graph.nodes())"
   ]
  },
  {
   "cell_type": "code",
   "execution_count": 84,
   "id": "a93c51c6",
   "metadata": {},
   "outputs": [],
   "source": [
    "zero_in_graph = nx.subgraph(full_graph, all_nodes)"
   ]
  },
  {
   "cell_type": "code",
   "execution_count": 85,
   "id": "96e539f2",
   "metadata": {},
   "outputs": [
    {
     "data": {
      "text/plain": [
       "280"
      ]
     },
     "execution_count": 85,
     "metadata": {},
     "output_type": "execute_result"
    }
   ],
   "source": [
    "zero_in_graph.number_of_nodes()"
   ]
  },
  {
   "cell_type": "code",
   "execution_count": 86,
   "id": "32d62316",
   "metadata": {},
   "outputs": [
    {
     "data": {
      "text/plain": [
       "929"
      ]
     },
     "execution_count": 86,
     "metadata": {},
     "output_type": "execute_result"
    }
   ],
   "source": [
    "zero_in_graph.number_of_edges()"
   ]
  },
  {
   "cell_type": "code",
   "execution_count": 87,
   "id": "94004ed9",
   "metadata": {},
   "outputs": [
    {
     "data": {
      "text/plain": [
       "[(1, 83),\n",
       " (2, 54),\n",
       " (3, 36),\n",
       " (4, 34),\n",
       " (5, 20),\n",
       " (7, 15),\n",
       " (9, 9),\n",
       " (0, 9),\n",
       " (8, 6),\n",
       " (6, 5),\n",
       " (11, 2),\n",
       " (15, 2),\n",
       " (17, 1),\n",
       " (19, 1),\n",
       " (12, 1),\n",
       " (14, 1),\n",
       " (16, 1)]"
      ]
     },
     "execution_count": 87,
     "metadata": {},
     "output_type": "execute_result"
    }
   ],
   "source": [
    "Counter(dict(zero_in_graph.in_degree).values()).most_common()"
   ]
  },
  {
   "cell_type": "code",
   "execution_count": 88,
   "id": "1d2002c7",
   "metadata": {},
   "outputs": [
    {
     "data": {
      "text/plain": [
       "[(1, 82),\n",
       " (2, 49),\n",
       " (3, 48),\n",
       " (4, 22),\n",
       " (0, 19),\n",
       " (5, 16),\n",
       " (6, 13),\n",
       " (7, 7),\n",
       " (8, 5),\n",
       " (9, 4),\n",
       " (11, 3),\n",
       " (19, 1),\n",
       " (15, 1),\n",
       " (13, 1)]"
      ]
     },
     "execution_count": 88,
     "metadata": {},
     "output_type": "execute_result"
    }
   ],
   "source": [
    "Counter(dict(filtered_graph.in_degree).values()).most_common()"
   ]
  },
  {
   "cell_type": "markdown",
   "id": "ce1e6f77",
   "metadata": {},
   "source": [
    "## Remove nodes that have in-degree=0 and no one hop connections to the rest of the network"
   ]
  },
  {
   "cell_type": "code",
   "execution_count": 89,
   "id": "214be1b9",
   "metadata": {},
   "outputs": [
    {
     "name": "stdout",
     "output_type": "stream",
     "text": [
      "9\n",
      "0\n"
     ]
    }
   ],
   "source": [
    "removal_count = 1 # placeholder\n",
    "\n",
    "one_in_graph = zero_in_graph.copy()\n",
    "\n",
    "# If a node (A) has only out edge is to another node (B) that is removed, then A will have zero outdegree after B \n",
    "# is removed. Then, we have to run another pass to remove A. We repeat this process until all \n",
    "# nodes have outdegree > 0\n",
    "while removal_count > 0:\n",
    "    zeros = []\n",
    "    for node in one_in_graph.nodes:\n",
    "        in_degree = one_in_graph.in_degree[node]\n",
    "        out_degree = one_in_graph.out_degree[node]\n",
    "        if in_degree == 0 or out_degree == 0:\n",
    "            zeros.append(node)\n",
    "    one_in_graph.remove_nodes_from(zeros)\n",
    "    removal_count = len(zeros)\n",
    "    print(removal_count)"
   ]
  },
  {
   "cell_type": "code",
   "execution_count": 90,
   "id": "687d9894",
   "metadata": {},
   "outputs": [
    {
     "data": {
      "text/plain": [
       "271"
      ]
     },
     "execution_count": 90,
     "metadata": {},
     "output_type": "execute_result"
    }
   ],
   "source": [
    "one_in_graph.number_of_nodes()"
   ]
  },
  {
   "cell_type": "code",
   "execution_count": 91,
   "id": "cd7254b2",
   "metadata": {},
   "outputs": [
    {
     "data": {
      "text/plain": [
       "929"
      ]
     },
     "execution_count": 91,
     "metadata": {},
     "output_type": "execute_result"
    }
   ],
   "source": [
    "zero_in_graph.number_of_edges()"
   ]
  },
  {
   "cell_type": "markdown",
   "id": "764b6f1e",
   "metadata": {},
   "source": [
    "### Statistics of largest connected component"
   ]
  },
  {
   "cell_type": "code",
   "execution_count": 92,
   "id": "4d627719",
   "metadata": {},
   "outputs": [
    {
     "name": "stdout",
     "output_type": "stream",
     "text": [
      "[('protein_protein', 664), ('tf', 253)]\n"
     ]
    }
   ],
   "source": [
    "# Edge types in the giant component\n",
    "edge_types = Counter()\n",
    "for edge in one_in_graph.edges(data=True):\n",
    "    edge_types[edge[2]['edge_type']] += 1\n",
    "pprint(edge_types.most_common())"
   ]
  },
  {
   "cell_type": "code",
   "execution_count": 93,
   "id": "3eb2e1d1",
   "metadata": {},
   "outputs": [
    {
     "data": {
      "text/plain": [
       "3.3837638376383765"
      ]
     },
     "execution_count": 93,
     "metadata": {},
     "output_type": "execute_result"
    }
   ],
   "source": [
    "# Average degree\n",
    "nx.number_of_edges(one_in_graph)/nx.number_of_nodes(one_in_graph)"
   ]
  },
  {
   "cell_type": "markdown",
   "id": "d2643452",
   "metadata": {},
   "source": [
    "### Degree distribution of largest filtered component"
   ]
  },
  {
   "cell_type": "code",
   "execution_count": 94,
   "id": "44ea594d",
   "metadata": {},
   "outputs": [
    {
     "data": {
      "image/png": "[encoded data removed]",
      "text/plain": [
       "<Figure size 640x480 with 1 Axes>"
      ]
     },
     "metadata": {},
     "output_type": "display_data"
    }
   ],
   "source": [
    "# in degree\n",
    "plt.hist(dict(one_in_graph.in_degree).values(), bins=20);"
   ]
  },
  {
   "cell_type": "code",
   "execution_count": 95,
   "id": "4bbfebf5",
   "metadata": {},
   "outputs": [
    {
     "data": {
      "image/png": "[encoded data removed]",
      "text/plain": [
       "<Figure size 640x480 with 1 Axes>"
      ]
     },
     "metadata": {},
     "output_type": "display_data"
    }
   ],
   "source": [
    "# out degree\n",
    "plt.hist(dict(one_in_graph.out_degree).values(), bins=20);"
   ]
  },
  {
   "cell_type": "code",
   "execution_count": 96,
   "id": "dc241fc4",
   "metadata": {},
   "outputs": [
    {
     "name": "stdout",
     "output_type": "stream",
     "text": [
      "(1, 83)\n",
      "(2, 54)\n",
      "(3, 41)\n",
      "(4, 31)\n",
      "(5, 19)\n",
      "(7, 17)\n",
      "(9, 9)\n",
      "(6, 4)\n",
      "(8, 4)\n",
      "(15, 3)\n",
      "(11, 2)\n",
      "(19, 1)\n",
      "(12, 1)\n",
      "(14, 1)\n",
      "(16, 1)\n"
     ]
    }
   ],
   "source": [
    "for x in Counter(dict(one_in_graph.in_degree).values()).most_common():\n",
    "    print(x)"
   ]
  },
  {
   "cell_type": "code",
   "execution_count": 97,
   "id": "97e4d8fc",
   "metadata": {},
   "outputs": [
    {
     "name": "stdout",
     "output_type": "stream",
     "text": [
      "(1, 79)\n",
      "(2, 60)\n",
      "(3, 49)\n",
      "(4, 26)\n",
      "(5, 15)\n",
      "(6, 12)\n",
      "(7, 9)\n",
      "(8, 6)\n",
      "(9, 5)\n",
      "(19, 2)\n",
      "(10, 2)\n",
      "(29, 1)\n",
      "(11, 1)\n",
      "(13, 1)\n",
      "(14, 1)\n",
      "(15, 1)\n",
      "(24, 1)\n"
     ]
    }
   ],
   "source": [
    "for x in Counter(dict(one_in_graph.out_degree).values()).most_common():\n",
    "    print(x)"
   ]
  },
  {
   "cell_type": "markdown",
   "id": "b9aedff8",
   "metadata": {},
   "source": [
    "## Check that NANOG is in the largest connected component"
   ]
  },
  {
   "cell_type": "code",
   "execution_count": 98,
   "id": "4c941619",
   "metadata": {},
   "outputs": [
    {
     "name": "stdout",
     "output_type": "stream",
     "text": [
      "ENSMUSP00000012540 15 13\n"
     ]
    }
   ],
   "source": [
    "nanog_ids = protein_names['NANOG']\n",
    "for nanog_id in nanog_ids:\n",
    "    nanog_id = nanog_id\n",
    "    if nanog_id in one_in_graph:\n",
    "        print(nanog_id, one_in_graph.in_degree[nanog_id], one_in_graph.out_degree[nanog_id])"
   ]
  },
  {
   "cell_type": "markdown",
   "id": "88e01510",
   "metadata": {},
   "source": [
    "## Export connected component in gephi compatible format"
   ]
  },
  {
   "cell_type": "code",
   "execution_count": 99,
   "id": "58867435",
   "metadata": {},
   "outputs": [],
   "source": [
    "all_attrs = set()\n",
    "for edge in one_in_graph.edges(data=True):\n",
    "    src, tgt, attrs = edge\n",
    "    for key in attrs.keys():\n",
    "        all_attrs.add(key)"
   ]
  },
  {
   "cell_type": "code",
   "execution_count": 100,
   "id": "c829ea70",
   "metadata": {},
   "outputs": [],
   "source": [
    "all_attrs = list(all_attrs)"
   ]
  },
  {
   "cell_type": "code",
   "execution_count": 101,
   "id": "507b3ec0",
   "metadata": {},
   "outputs": [],
   "source": [
    "edgefile = open('../data/connected_graph_edges.csv','w')\n",
    "edgefile.write('Source,Target,'+','.join(all_attrs)+'\\n')\n",
    "for edge in one_in_graph.edges(data=True):\n",
    "    src, tgt, attrs = edge\n",
    "    line = [src, tgt]\n",
    "    for attr in all_attrs:\n",
    "        if attr in attrs:\n",
    "            line.append(attrs[attr])\n",
    "        else:\n",
    "            line.append('')\n",
    "\n",
    "    edgefile.write(','.join([str(_) for _ in line]) + '\\n')\n",
    "edgefile.close()"
   ]
  },
  {
   "cell_type": "code",
   "execution_count": 102,
   "id": "39a0ea8a",
   "metadata": {},
   "outputs": [],
   "source": [
    "nodefile = open('../data/connected_graph_nodes.csv','w')\n",
    "nodefile.write('Id,Label\\n')\n",
    "for node in one_in_graph.nodes():\n",
    "    if node in protein_id_names:\n",
    "        node_name = '/'.join(protein_id_names[node])\n",
    "    nodefile.write(node + ',' + node_name + '\\n')\n",
    "\n",
    "nodefile.close()"
   ]
  },
  {
   "cell_type": "markdown",
   "id": "a28b911b",
   "metadata": {},
   "source": [
    "## Export graph as pickle"
   ]
  },
  {
   "cell_type": "code",
   "execution_count": 103,
   "id": "73ab5e1b",
   "metadata": {},
   "outputs": [],
   "source": [
    "pickle.dump(one_in_graph, open('../data/filtered_graph.pickle','wb'))"
   ]
  },
  {
   "cell_type": "code",
   "execution_count": null,
   "id": "eeb5e41f",
   "metadata": {},
   "outputs": [],
   "source": []
  }
 ],
 "metadata": {
  "kernelspec": {
   "display_name": "mesoderm",
   "language": "python",
   "name": "python3"
  },
  "language_info": {
   "codemirror_mode": {
    "name": "ipython",
    "version": 3
   },
   "file_extension": ".py",
   "mimetype": "text/x-python",
   "name": "python",
   "nbconvert_exporter": "python",
   "pygments_lexer": "ipython3",
   "version": "3.10.6"
  },
  "vscode": {
   "interpreter": {
    "hash": "0507896927b3d1de8389777267b2e8036b260861d6d0bcda4703c464aae80a55"
   }
  }
 },
 "nbformat": 4,
 "nbformat_minor": 5
}
