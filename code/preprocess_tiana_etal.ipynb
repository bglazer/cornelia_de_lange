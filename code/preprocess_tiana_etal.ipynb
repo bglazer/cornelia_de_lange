{
 "cells": [
  {
   "cell_type": "markdown",
   "id": "d39973cb",
   "metadata": {},
   "source": [
    "## Match genes in Tiana et al data to their respective proteins"
   ]
  },
  {
   "cell_type": "code",
   "execution_count": 3,
   "id": "6e945478",
   "metadata": {},
   "outputs": [],
   "source": [
    "import pandas as pd\n",
    "import pickle\n",
    "gene_protein = pickle.load(open('../data/gene_protein_ids.pickle','rb'))"
   ]
  },
  {
   "cell_type": "code",
   "execution_count": 4,
   "id": "7379fd23",
   "metadata": {},
   "outputs": [],
   "source": [
    "# File downloaded from https://www.science.org/doi/suppl/10.1126/sciadv.abo3583/suppl_file/sciadv.abo3583_data_files_s1_to_s4.zip\n",
    "df = pd.read_excel('../data/sciadv.abo3583_data_file_s1.xlsx', sheet_name='Nanog E7.5 +dox vs -dox', header=0)"
   ]
  },
  {
   "cell_type": "code",
   "execution_count": 5,
   "id": "b2893a24",
   "metadata": {},
   "outputs": [
    {
     "data": {
      "text/html": [
       "<div>\n",
       "<style scoped>\n",
       "    .dataframe tbody tr th:only-of-type {\n",
       "        vertical-align: middle;\n",
       "    }\n",
       "\n",
       "    .dataframe tbody tr th {\n",
       "        vertical-align: top;\n",
       "    }\n",
       "\n",
       "    .dataframe thead th {\n",
       "        text-align: right;\n",
       "    }\n",
       "</style>\n",
       "<table border=\"1\" class=\"dataframe\">\n",
       "  <thead>\n",
       "    <tr style=\"text-align: right;\">\n",
       "      <th></th>\n",
       "      <th>ID</th>\n",
       "      <th>mgi_symbol</th>\n",
       "      <th>ave +dox</th>\n",
       "      <th>ave -dox</th>\n",
       "      <th>foldChange</th>\n",
       "      <th>logFC</th>\n",
       "      <th>P.Value</th>\n",
       "      <th>adj.P.Val</th>\n",
       "      <th>chr</th>\n",
       "      <th>start</th>\n",
       "      <th>end</th>\n",
       "      <th>strand</th>\n",
       "      <th>biotype</th>\n",
       "      <th>desc</th>\n",
       "    </tr>\n",
       "  </thead>\n",
       "  <tbody>\n",
       "    <tr>\n",
       "      <th>0</th>\n",
       "      <td>ENSMUSG00000081272</td>\n",
       "      <td>Gm13509</td>\n",
       "      <td>0.0</td>\n",
       "      <td>22.359612</td>\n",
       "      <td>-3764.537589</td>\n",
       "      <td>-11.878257</td>\n",
       "      <td>3.187547e-29</td>\n",
       "      <td>3.572975e-26</td>\n",
       "      <td>2</td>\n",
       "      <td>49163675</td>\n",
       "      <td>49164982</td>\n",
       "      <td>1</td>\n",
       "      <td>pseudogene</td>\n",
       "      <td>predicted gene 13509 [Source:MGI Symbol;Acc:MG...</td>\n",
       "    </tr>\n",
       "    <tr>\n",
       "      <th>1</th>\n",
       "      <td>ENSMUSG00000078236</td>\n",
       "      <td>Pou3f1</td>\n",
       "      <td>0.0</td>\n",
       "      <td>15.794513</td>\n",
       "      <td>-2657.034587</td>\n",
       "      <td>-11.375601</td>\n",
       "      <td>1.049696e-10</td>\n",
       "      <td>9.109327e-09</td>\n",
       "      <td>4</td>\n",
       "      <td>124334896</td>\n",
       "      <td>124337899</td>\n",
       "      <td>1</td>\n",
       "      <td>protein_coding</td>\n",
       "      <td>POU domain, class 3, transcription factor 1 [S...</td>\n",
       "    </tr>\n",
       "    <tr>\n",
       "      <th>2</th>\n",
       "      <td>ENSMUSG00000043618</td>\n",
       "      <td>Eif5al3-ps</td>\n",
       "      <td>0.0</td>\n",
       "      <td>13.589231</td>\n",
       "      <td>-2294.151657</td>\n",
       "      <td>-11.163745</td>\n",
       "      <td>1.730782e-32</td>\n",
       "      <td>2.116431e-29</td>\n",
       "      <td>5</td>\n",
       "      <td>90561254</td>\n",
       "      <td>90561700</td>\n",
       "      <td>1</td>\n",
       "      <td>pseudogene</td>\n",
       "      <td>eukaryotic translation initiation factor 5A-li...</td>\n",
       "    </tr>\n",
       "    <tr>\n",
       "      <th>3</th>\n",
       "      <td>ENSMUSG00000049494</td>\n",
       "      <td>Gm12669</td>\n",
       "      <td>0.0</td>\n",
       "      <td>10.404775</td>\n",
       "      <td>-1749.919171</td>\n",
       "      <td>-10.773073</td>\n",
       "      <td>7.968524e-11</td>\n",
       "      <td>7.098319e-09</td>\n",
       "      <td>4</td>\n",
       "      <td>91472238</td>\n",
       "      <td>91473247</td>\n",
       "      <td>-1</td>\n",
       "      <td>pseudogene</td>\n",
       "      <td>predicted gene 12669 [Source:MGI Symbol;Acc:MG...</td>\n",
       "    </tr>\n",
       "    <tr>\n",
       "      <th>4</th>\n",
       "      <td>ENSMUSG00000057808</td>\n",
       "      <td>Gm10031</td>\n",
       "      <td>0.0</td>\n",
       "      <td>6.173581</td>\n",
       "      <td>-1042.026198</td>\n",
       "      <td>-10.025176</td>\n",
       "      <td>4.171538e-15</td>\n",
       "      <td>8.632516e-13</td>\n",
       "      <td>1</td>\n",
       "      <td>158454362</td>\n",
       "      <td>158455283</td>\n",
       "      <td>1</td>\n",
       "      <td>pseudogene</td>\n",
       "      <td>predicted pseudogene 10031 [Source:MGI Symbol;...</td>\n",
       "    </tr>\n",
       "  </tbody>\n",
       "</table>\n",
       "</div>"
      ],
      "text/plain": [
       "                   ID  mgi_symbol  ave +dox   ave -dox   foldChange  \\\n",
       "0  ENSMUSG00000081272     Gm13509       0.0  22.359612 -3764.537589   \n",
       "1  ENSMUSG00000078236      Pou3f1       0.0  15.794513 -2657.034587   \n",
       "2  ENSMUSG00000043618  Eif5al3-ps       0.0  13.589231 -2294.151657   \n",
       "3  ENSMUSG00000049494     Gm12669       0.0  10.404775 -1749.919171   \n",
       "4  ENSMUSG00000057808     Gm10031       0.0   6.173581 -1042.026198   \n",
       "\n",
       "       logFC       P.Value     adj.P.Val chr      start        end  strand  \\\n",
       "0 -11.878257  3.187547e-29  3.572975e-26   2   49163675   49164982       1   \n",
       "1 -11.375601  1.049696e-10  9.109327e-09   4  124334896  124337899       1   \n",
       "2 -11.163745  1.730782e-32  2.116431e-29   5   90561254   90561700       1   \n",
       "3 -10.773073  7.968524e-11  7.098319e-09   4   91472238   91473247      -1   \n",
       "4 -10.025176  4.171538e-15  8.632516e-13   1  158454362  158455283       1   \n",
       "\n",
       "          biotype                                               desc  \n",
       "0      pseudogene  predicted gene 13509 [Source:MGI Symbol;Acc:MG...  \n",
       "1  protein_coding  POU domain, class 3, transcription factor 1 [S...  \n",
       "2      pseudogene  eukaryotic translation initiation factor 5A-li...  \n",
       "3      pseudogene  predicted gene 12669 [Source:MGI Symbol;Acc:MG...  \n",
       "4      pseudogene  predicted pseudogene 10031 [Source:MGI Symbol;...  "
      ]
     },
     "execution_count": 5,
     "metadata": {},
     "output_type": "execute_result"
    }
   ],
   "source": [
    "df.head()"
   ]
  },
  {
   "cell_type": "code",
   "execution_count": 6,
   "id": "2dd4b7e4",
   "metadata": {},
   "outputs": [],
   "source": [
    "## Filter mitochondrial genes\n",
    "\n",
    "# Gene list downloaded from ftp://ftp.broadinstitute.org/distribution/metabolic/papers/Pagliarini/MitoCarta2.0/Mouse.MitoCarta2.0.xls\n",
    "mito_data = pd.read_excel('../data/Mouse.MitoCarta2.0.xls', sheet_name='A Mouse MitoCarta2.0', header=0)"
   ]
  },
  {
   "cell_type": "code",
   "execution_count": 7,
   "id": "6957601a",
   "metadata": {},
   "outputs": [],
   "source": [
    "mito_genes = []\n",
    "for idx, row in mito_data.iterrows():\n",
    "    if row['EnsemblGeneID'] in gene_protein:\n",
    "        if row['MCARTA2_FDR'] < 0.05:\n",
    "            mito_genes.append(row['EnsemblGeneID'])"
   ]
  },
  {
   "cell_type": "code",
   "execution_count": 8,
   "id": "b9bb20bd",
   "metadata": {},
   "outputs": [
    {
     "data": {
      "text/plain": [
       "930"
      ]
     },
     "execution_count": 8,
     "metadata": {},
     "output_type": "execute_result"
    }
   ],
   "source": [
    "len(mito_genes)"
   ]
  },
  {
   "cell_type": "code",
   "execution_count": 9,
   "id": "96826a9d",
   "metadata": {},
   "outputs": [],
   "source": [
    "import re"
   ]
  },
  {
   "cell_type": "code",
   "execution_count": 10,
   "id": "1c0d8fd0",
   "metadata": {},
   "outputs": [],
   "source": [
    "gene_synonyms = pickle.load(open('../data/gene_synonyms.pickle','rb'))\n",
    "gene_names = pickle.load(open('../data/gene_names.pickle','rb'))"
   ]
  },
  {
   "cell_type": "code",
   "execution_count": 11,
   "id": "a6b81d27",
   "metadata": {},
   "outputs": [],
   "source": [
    "ribosomal_genes = []\n",
    "for gene_name, ids in gene_synonyms.items():\n",
    "    if re.match('^M*RP[LS].*', gene_name):\n",
    "        # print(gene_name)\n",
    "        for gene_id in ids:\n",
    "            ribosomal_genes.append(gene_id)\n",
    "for gene_name, ids in gene_names.items():\n",
    "    if re.match('^M*RP[LS].*', gene_name):\n",
    "        # print(gene_name)\n",
    "        for gene_id in ids:\n",
    "            ribosomal_genes.append(gene_id)"
   ]
  },
  {
   "cell_type": "code",
   "execution_count": 12,
   "id": "ed05acd9",
   "metadata": {},
   "outputs": [
    {
     "data": {
      "text/plain": [
       "1051"
      ]
     },
     "execution_count": 12,
     "metadata": {},
     "output_type": "execute_result"
    }
   ],
   "source": [
    "len(ribosomal_genes)"
   ]
  },
  {
   "attachments": {},
   "cell_type": "markdown",
   "id": "cfaffaae",
   "metadata": {},
   "source": [
    "## Remove hemoglobin genes"
   ]
  },
  {
   "cell_type": "code",
   "execution_count": 17,
   "id": "e77eb7d8",
   "metadata": {},
   "outputs": [
    {
     "name": "stdout",
     "output_type": "stream",
     "text": [
      "HBA-3PS\n",
      "HBA-PS3\n",
      "HBB-BH3\n",
      "HBB-BH2\n",
      "HBB-BH1\n",
      "HBB-BH0\n",
      "HBB-Y\n",
      "HBA-X\n",
      "HBA-A1\n",
      "HBA1\n",
      "HBA-A2\n",
      "HBA-4PS\n",
      "HBA-PS4\n",
      "HBA-A4\n",
      "HBB-BT\n",
      "HBB-BS\n"
     ]
    }
   ],
   "source": [
    "hemoglobin_genes = []\n",
    "for gene_name, ids in gene_synonyms.items():\n",
    "    if re.match('^HB[AB].*', gene_name):\n",
    "        # print(gene_name)\n",
    "        for gene_id in ids:\n",
    "            hemoglobin_genes.append(gene_id)\n",
    "            print(gene_name)"
   ]
  },
  {
   "cell_type": "code",
   "execution_count": 23,
   "id": "57047362",
   "metadata": {},
   "outputs": [
    {
     "data": {
      "text/plain": [
       "['ENSMUSG00000114969',\n",
       " 'ENSMUSG00000114969',\n",
       " 'ENSMUSG00000083216',\n",
       " 'ENSMUSG00000078621',\n",
       " 'ENSMUSG00000052217',\n",
       " 'ENSMUSG00000085700',\n",
       " 'ENSMUSG00000052187',\n",
       " 'ENSMUSG00000055609',\n",
       " 'ENSMUSG00000069919',\n",
       " 'ENSMUSG00000069919',\n",
       " 'ENSMUSG00000069917',\n",
       " 'ENSMUSG00000084893',\n",
       " 'ENSMUSG00000084893',\n",
       " 'ENSMUSG00000084893',\n",
       " 'ENSMUSG00000073940',\n",
       " 'ENSMUSG00000052305']"
      ]
     },
     "execution_count": 23,
     "metadata": {},
     "output_type": "execute_result"
    }
   ],
   "source": [
    "hemoglobin_genes"
   ]
  },
  {
   "cell_type": "code",
   "execution_count": 18,
   "id": "4140a2ed",
   "metadata": {},
   "outputs": [
    {
     "name": "stdout",
     "output_type": "stream",
     "text": [
      "[('pseudogene', 61), ('protein_coding', 31), ('lincRNA', 28), ('processed_transcript', 23), ('Mt_tRNA', 3), ('Mt_rRNA', 2), ('miRNA', 1)]\n"
     ]
    }
   ],
   "source": [
    "fold_changes = {}\n",
    "not_found = {}\n",
    "\n",
    "# For each row in the data frame\n",
    "for idx,row in df.iterrows():\n",
    "    ensembl_id = row['ID']\n",
    "    fold_change = float(row['foldChange'])\n",
    "    gene_type = row['biotype']\n",
    "    chromosome = row['chr']\n",
    "    \n",
    "    # Only include protein coding genes\n",
    "    protein_match = ensembl_id in gene_protein\n",
    "    # Exclude sex chromosome and mitochondrial genes\n",
    "    chromosomes = chromosome not in ['X', 'Y', 'MT']\n",
    "    not_mito = ensembl_id not in mito_genes\n",
    "    # Exclude ribosomal genes\n",
    "    not_ribosomal = ensembl_id not in ribosomal_genes  \n",
    "    # Exclude hemoglobin genes\n",
    "    not_hemoglobin = ensembl_id not in hemoglobin_genes\n",
    "\n",
    "    if protein_match and chromosomes and not_mito and not_ribosomal and not_hemoglobin:\n",
    "        protein_id = gene_protein[ensembl_id]\n",
    "        fold_changes[protein_id] = fold_change\n",
    "    if not protein_match:\n",
    "        not_found[ensembl_id] = gene_type\n",
    "\n",
    "from collections import Counter\n",
    "gene_type_count = Counter()\n",
    "# Count of gene types of the unmatched genes\n",
    "for ensembl_id, gene_type in not_found.items():\n",
    "    gene_type_count[gene_type] += 1\n",
    "print(gene_type_count.most_common())\n",
    "\n",
    "# # Print the ensemble ids of the unmatched protein coding genes\n",
    "# for ensembl_id, gene_type in not_found.items():\n",
    "#     if gene_type == 'protein_coding':\n",
    "#         print(ensembl_id, gene_type)"
   ]
  },
  {
   "cell_type": "code",
   "execution_count": 19,
   "id": "12f8b08d",
   "metadata": {},
   "outputs": [],
   "source": [
    "from collections import Counter"
   ]
  },
  {
   "cell_type": "code",
   "execution_count": 20,
   "id": "55e11e81",
   "metadata": {},
   "outputs": [
    {
     "data": {
      "text/plain": [
       "[(False, 700), (True, 629)]"
      ]
     },
     "execution_count": 20,
     "metadata": {},
     "output_type": "execute_result"
    }
   ],
   "source": [
    "Counter([fc > 0 for fc in fold_changes.values()]).most_common()"
   ]
  },
  {
   "cell_type": "code",
   "execution_count": 21,
   "id": "5e09b7e7",
   "metadata": {},
   "outputs": [],
   "source": [
    "import pickle"
   ]
  },
  {
   "cell_type": "code",
   "execution_count": 22,
   "id": "ed64e105",
   "metadata": {},
   "outputs": [],
   "source": [
    "with open('../data/tiana_etal_differential_expression.csv','w') as outputfile:\n",
    "    for gene, fc in fold_changes.items():\n",
    "        outputfile.write(','.join([gene,str(fc > 0), str(fc)]) + '\\n')\n"
   ]
  },
  {
   "cell_type": "code",
   "execution_count": null,
   "id": "45e7cc7d",
   "metadata": {},
   "outputs": [],
   "source": []
  }
 ],
 "metadata": {
  "kernelspec": {
   "display_name": "mesoderm",
   "language": "python",
   "name": "python3"
  },
  "language_info": {
   "codemirror_mode": {
    "name": "ipython",
    "version": 3
   },
   "file_extension": ".py",
   "mimetype": "text/x-python",
   "name": "python",
   "nbconvert_exporter": "python",
   "pygments_lexer": "ipython3",
   "version": "3.9.16"
  },
  "vscode": {
   "interpreter": {
    "hash": "0507896927b3d1de8389777267b2e8036b260861d6d0bcda4703c464aae80a55"
   }
  }
 },
 "nbformat": 4,
 "nbformat_minor": 5
}
