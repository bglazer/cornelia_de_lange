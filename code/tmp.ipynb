{
 "cells": [
  {
   "cell_type": "code",
   "execution_count": 1,
   "id": "5b37ae83",
   "metadata": {},
   "outputs": [
    {
     "name": "stdout",
     "output_type": "stream",
     "text": [
      "0\n",
      "2\n",
      "8\n",
      "24\n",
      "64\n",
      "160\n",
      "384\n",
      "896\n",
      "2048\n",
      "4608\n",
      "10240\n",
      "22528\n",
      "49152\n",
      "106496\n",
      "229376\n",
      "491520\n",
      "1048576\n",
      "2228224\n",
      "4718592\n",
      "9961472\n"
     ]
    }
   ],
   "source": [
    "for i in range(20):\n",
    "    s = 2**i * i\n",
    "    print(s)"
   ]
  },
  {
   "cell_type": "code",
   "execution_count": null,
   "id": "3569c455",
   "metadata": {},
   "outputs": [],
   "source": []
  }
 ],
 "metadata": {
  "kernelspec": {
   "display_name": "Python [conda env:mesoderm]",
   "language": "python",
   "name": "conda-env-mesoderm-py"
  },
  "language_info": {
   "codemirror_mode": {
    "name": "ipython",
    "version": 3
   },
   "file_extension": ".py",
   "mimetype": "text/x-python",
   "name": "python",
   "nbconvert_exporter": "python",
   "pygments_lexer": "ipython3",
   "version": "3.10.6"
  }
 },
 "nbformat": 4,
 "nbformat_minor": 5
}
