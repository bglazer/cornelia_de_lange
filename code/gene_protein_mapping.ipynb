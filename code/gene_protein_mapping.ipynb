{
 "cells": [
  {
   "cell_type": "markdown",
   "id": "e26fe80b",
   "metadata": {},
   "source": [
    "# Generate mapping between Ensembl ID's of genes and proteins"
   ]
  },
  {
   "cell_type": "code",
   "execution_count": 1,
   "id": "30908e30",
   "metadata": {},
   "outputs": [],
   "source": [
    "import json"
   ]
  },
  {
   "cell_type": "code",
   "execution_count": 2,
   "id": "fb15160e",
   "metadata": {},
   "outputs": [],
   "source": [
    "from pprint import pprint"
   ]
  },
  {
   "cell_type": "code",
   "execution_count": 3,
   "id": "696d6766",
   "metadata": {},
   "outputs": [],
   "source": [
    "from collections import defaultdict"
   ]
  },
  {
   "cell_type": "code",
   "execution_count": 4,
   "id": "b86d00cc",
   "metadata": {},
   "outputs": [],
   "source": [
    "import pickle"
   ]
  },
  {
   "cell_type": "code",
   "execution_count": 5,
   "id": "b8667a43",
   "metadata": {},
   "outputs": [],
   "source": [
    "ensembl = json.load(open('../data/mus_musculus.json'))"
   ]
  },
  {
   "cell_type": "code",
   "execution_count": 6,
   "id": "073aa990",
   "metadata": {},
   "outputs": [
    {
     "data": {
      "text/plain": [
       "56748"
      ]
     },
     "execution_count": 6,
     "metadata": {},
     "output_type": "execute_result"
    }
   ],
   "source": [
    "len(ensembl['genes'])"
   ]
  },
  {
   "cell_type": "code",
   "execution_count": 7,
   "id": "27d6cf67",
   "metadata": {
    "scrolled": false
   },
   "outputs": [],
   "source": [
    "gene_protein_ids = {}\n",
    "protein_gene_ids = {}\n",
    "for gene in ensembl['genes']:\n",
    "    if 'transcripts' in gene:\n",
    "        for transcript in gene['transcripts']:\n",
    "            if 'translations' in transcript:\n",
    "                for translation in transcript['translations']:\n",
    "                    gene_protein_ids[gene['id']] = translation['id']"
   ]
  },
  {
   "cell_type": "code",
   "execution_count": 8,
   "id": "d89f38c1",
   "metadata": {},
   "outputs": [
    {
     "data": {
      "text/plain": [
       "22464"
      ]
     },
     "execution_count": 8,
     "metadata": {},
     "output_type": "execute_result"
    }
   ],
   "source": [
    "len(gene_protein_ids)"
   ]
  },
  {
   "cell_type": "markdown",
   "id": "c6019a4b",
   "metadata": {},
   "source": [
    "# Generate mapping between gene names and Ensembl ID's of genes and proteins"
   ]
  },
  {
   "cell_type": "code",
   "execution_count": 23,
   "id": "5e372b67",
   "metadata": {
    "scrolled": false
   },
   "outputs": [],
   "source": [
    "protein_primary_names = defaultdict(set)\n",
    "gene_primary_names = defaultdict(set)\n",
    "protein_all_names = defaultdict(set)\n",
    "gene_all_names = defaultdict(set)\n",
    "name_file = open('../data/mouse_gene_names.tsv')\n",
    "next(name_file)\n",
    "for line in name_file:\n",
    "    s = line.split('\\t')\n",
    "    gene_id, transcript_id, synonym, name, protein_id = s\n",
    "    protein_id = protein_id.strip()\n",
    "    if synonym:\n",
    "        gene_all_names[synonym.upper()].add(gene_id)\n",
    "    if synonym and protein_id:\n",
    "        protein_all_names[synonym.upper()].add(protein_id)\n",
    "    if name:\n",
    "        gene_primary_names[name.upper()].add(gene_id)\n",
    "        gene_all_names[name.upper()].add(gene_id)\n",
    "    if name and protein_id:\n",
    "        protein_primary_names[name.upper()].add(protein_id)\n",
    "        protein_all_names[name.upper()].add(protein_id)\n",
    "gene_all_names = dict(gene_all_names)\n",
    "protein_all_names = dict(protein_all_names)"
   ]
  },
  {
   "cell_type": "code",
   "execution_count": 24,
   "id": "97236253",
   "metadata": {},
   "outputs": [
    {
     "data": {
      "text/plain": [
       "100654"
      ]
     },
     "execution_count": 24,
     "metadata": {},
     "output_type": "execute_result"
    }
   ],
   "source": [
    "len(gene_all_names)"
   ]
  },
  {
   "cell_type": "code",
   "execution_count": 25,
   "id": "31f6a86d",
   "metadata": {},
   "outputs": [
    {
     "data": {
      "text/plain": [
       "63822"
      ]
     },
     "execution_count": 25,
     "metadata": {},
     "output_type": "execute_result"
    }
   ],
   "source": [
    "len(protein_all_names)"
   ]
  },
  {
   "cell_type": "code",
   "execution_count": 26,
   "id": "e72309be",
   "metadata": {},
   "outputs": [],
   "source": [
    "pickle.dump(protein_all_names, open('../data/protein_synonyms.pickle','wb'))\n",
    "\n",
    "pickle.dump(gene_all_names, open('../data/gene_synonyms.pickle','wb'))\n",
    "\n",
    "pickle.dump(protein_primary_names, open('../data/protein_names.pickle','wb'))\n",
    "\n",
    "pickle.dump(gene_primary_names, open('../data/gene_names.pickle','wb'))\n",
    "\n",
    "pickle.dump(gene_protein_ids, open('../data/gene_protein_ids.pickle','wb'))"
   ]
  },
  {
   "cell_type": "markdown",
   "id": "698eb8a3",
   "metadata": {},
   "source": [
    "## Generate backward mapping from ID to names"
   ]
  },
  {
   "cell_type": "code",
   "execution_count": 27,
   "id": "f968a7ac",
   "metadata": {},
   "outputs": [
    {
     "name": "stdout",
     "output_type": "stream",
     "text": [
      "54055\n"
     ]
    }
   ],
   "source": [
    "# Map ids back to names\n",
    "from collections import defaultdict\n",
    "gene_id_to_name = defaultdict(set)\n",
    "for name, ids in gene_primary_names.items():\n",
    "    for gene_id in ids:\n",
    "        gene_id_to_name[gene_id].add(name)\n",
    "gene_id_to_name = dict(gene_id_to_name)\n",
    "print(len(gene_id_to_name))"
   ]
  },
  {
   "cell_type": "code",
   "execution_count": 28,
   "id": "730bc0b8",
   "metadata": {},
   "outputs": [
    {
     "name": "stdout",
     "output_type": "stream",
     "text": [
      "67085\n"
     ]
    }
   ],
   "source": [
    "# Map ids back to names\n",
    "from collections import defaultdict\n",
    "protein_id_to_name = defaultdict(set)\n",
    "for name, ids in protein_primary_names.items():\n",
    "    for gene_id in ids:\n",
    "        protein_id_to_name[gene_id].add(name)\n",
    "protein_id_to_name = dict(protein_id_to_name)\n",
    "print(len(protein_id_to_name))"
   ]
  },
  {
   "cell_type": "code",
   "execution_count": 29,
   "id": "ad64ebf9",
   "metadata": {},
   "outputs": [
    {
     "name": "stdout",
     "output_type": "stream",
     "text": [
      "67085\n"
     ]
    }
   ],
   "source": [
    "# Map ids back to names\n",
    "from collections import defaultdict\n",
    "protein_id_to_synonyms = defaultdict(set)\n",
    "for name, ids in protein_all_names.items():\n",
    "    for protein_id in ids:\n",
    "        protein_id_to_synonyms[protein_id].add(name)\n",
    "protein_id_to_synonyms = dict(protein_id_to_synonyms)\n",
    "print(len(protein_id_to_synonyms))"
   ]
  },
  {
   "cell_type": "code",
   "execution_count": 30,
   "id": "0a96a34c",
   "metadata": {},
   "outputs": [
    {
     "data": {
      "text/plain": [
       "{'TWIST1'}"
      ]
     },
     "execution_count": 30,
     "metadata": {},
     "output_type": "execute_result"
    }
   ],
   "source": [
    "protein_id_to_name['ENSMUSP00000040089']"
   ]
  },
  {
   "cell_type": "code",
   "execution_count": 31,
   "id": "a7b70b6c",
   "metadata": {},
   "outputs": [
    {
     "data": {
      "text/plain": [
       "{'BHLHA38',\n",
       " 'CHARLIE CHAPLIN',\n",
       " 'M-TWIST',\n",
       " 'PDT',\n",
       " 'PLURIDIGITE',\n",
       " 'SKA10',\n",
       " 'SKA<M10JUS>',\n",
       " 'TWIST1'}"
      ]
     },
     "execution_count": 31,
     "metadata": {},
     "output_type": "execute_result"
    }
   ],
   "source": [
    "protein_id_to_synonyms['ENSMUSP00000040089']"
   ]
  },
  {
   "cell_type": "code",
   "execution_count": 17,
   "id": "da92c5fa",
   "metadata": {},
   "outputs": [],
   "source": [
    "pickle.dump(protein_id_to_name, open('../data/protein_id_to_name.pickle','wb'))"
   ]
  },
  {
   "cell_type": "code",
   "execution_count": 21,
   "id": "835f97c7",
   "metadata": {},
   "outputs": [],
   "source": [
    "pickle.dump(protein_id_to_synonyms, open('../data/protein_id_to_synonyms.pickle','wb'))"
   ]
  },
  {
   "cell_type": "code",
   "execution_count": 18,
   "id": "d64cd211",
   "metadata": {},
   "outputs": [],
   "source": [
    "pickle.dump(gene_id_to_name, open('../data/gene_id_to_name.pickle','wb'))"
   ]
  },
  {
   "cell_type": "markdown",
   "id": "7ab3d9e1",
   "metadata": {},
   "source": [
    "## Get names of genes that are in Enrichr's GO_Bio_Process"
   ]
  },
  {
   "cell_type": "code",
   "execution_count": 19,
   "id": "d1fc42cd",
   "metadata": {},
   "outputs": [],
   "source": [
    "f = open('../data/GO_Biological_Process_2021')\n",
    "go_names = set()\n",
    "for line in f:\n",
    "    for name in line.strip().split('\\t')[2:]:\n",
    "        go_names.add(name)"
   ]
  },
  {
   "cell_type": "code",
   "execution_count": 20,
   "id": "c26a0439",
   "metadata": {},
   "outputs": [],
   "source": [
    "pickle.dump(go_names, open('../data/go_bio_process_2021_names.pickle','wb'))"
   ]
  }
 ],
 "metadata": {
  "kernelspec": {
   "display_name": "base",
   "language": "python",
   "name": "python3"
  },
  "language_info": {
   "codemirror_mode": {
    "name": "ipython",
    "version": 3
   },
   "file_extension": ".py",
   "mimetype": "text/x-python",
   "name": "python",
   "nbconvert_exporter": "python",
   "pygments_lexer": "ipython3",
   "version": "3.9.5"
  },
  "vscode": {
   "interpreter": {
    "hash": "54bd0a90827eb703d6b4fa1b085b6b522eec7dd77b0392f488dee640ae7e9ad5"
   }
  }
 },
 "nbformat": 4,
 "nbformat_minor": 5
}
