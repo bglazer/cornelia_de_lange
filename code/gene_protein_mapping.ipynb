{
 "cells": [
  {
   "cell_type": "markdown",
   "id": "e26fe80b",
   "metadata": {},
   "source": [
    "# Generate mapping between Ensembl ID's of genes and proteins"
   ]
  },
  {
   "cell_type": "code",
   "execution_count": 1,
   "id": "30908e30",
   "metadata": {},
   "outputs": [],
   "source": [
    "import json"
   ]
  },
  {
   "cell_type": "code",
   "execution_count": 2,
   "id": "fb15160e",
   "metadata": {},
   "outputs": [],
   "source": [
    "from pprint import pprint"
   ]
  },
  {
   "cell_type": "code",
   "execution_count": 3,
   "id": "696d6766",
   "metadata": {},
   "outputs": [],
   "source": [
    "from collections import defaultdict"
   ]
  },
  {
   "cell_type": "code",
   "execution_count": 4,
   "id": "b86d00cc",
   "metadata": {},
   "outputs": [],
   "source": [
    "import pickle"
   ]
  },
  {
   "cell_type": "code",
   "execution_count": 5,
   "id": "b8667a43",
   "metadata": {},
   "outputs": [],
   "source": [
    "ensembl = json.load(open('../data/mus_musculus.json'))"
   ]
  },
  {
   "cell_type": "code",
   "execution_count": 6,
   "id": "073aa990",
   "metadata": {},
   "outputs": [
    {
     "data": {
      "text/plain": [
       "56748"
      ]
     },
     "execution_count": 6,
     "metadata": {},
     "output_type": "execute_result"
    }
   ],
   "source": [
    "len(ensembl['genes'])"
   ]
  },
  {
   "cell_type": "code",
   "execution_count": 7,
   "id": "27d6cf67",
   "metadata": {
    "scrolled": false
   },
   "outputs": [],
   "source": [
    "gene_protein_ids = {}\n",
    "for gene in ensembl['genes']:\n",
    "    if 'transcripts' in gene:\n",
    "        for transcript in gene['transcripts']:\n",
    "            if 'translations' in transcript:\n",
    "                for translation in transcript['translations']:\n",
    "                    gene_protein_ids[gene['id']] = translation['id']\n"
   ]
  },
  {
   "cell_type": "code",
   "execution_count": 8,
   "id": "d89f38c1",
   "metadata": {},
   "outputs": [
    {
     "data": {
      "text/plain": [
       "22464"
      ]
     },
     "execution_count": 8,
     "metadata": {},
     "output_type": "execute_result"
    }
   ],
   "source": [
    "len(gene_protein_ids)"
   ]
  },
  {
   "cell_type": "markdown",
   "id": "c6019a4b",
   "metadata": {},
   "source": [
    "# Generate mapping between gene names and Ensembl ID's of genes and proteins"
   ]
  },
  {
   "cell_type": "code",
   "execution_count": 9,
   "id": "5e372b67",
   "metadata": {
    "scrolled": false
   },
   "outputs": [],
   "source": [
    "protein_names = defaultdict(set)\n",
    "gene_names = defaultdict(set)\n",
    "name_file = open('../data/mouse_gene_names.tsv')\n",
    "next(name_file)\n",
    "for line in name_file:\n",
    "    s = line.split('\\t')\n",
    "    gene_id, transcript_id, synonym, name, protein_id = s\n",
    "    protein_id = protein_id.strip()\n",
    "    if synonym:\n",
    "        gene_names[synonym.upper()].add(gene_id)\n",
    "    if synonym and protein_id:\n",
    "        protein_names[synonym.upper()].add(protein_id)\n",
    "    if name:\n",
    "        gene_names[name.upper()].add(gene_id)\n",
    "    if name and protein_id:\n",
    "        protein_names[name.upper()].add(protein_id)\n",
    "gene_names = dict(gene_names)\n",
    "protein_names = dict(protein_names)"
   ]
  },
  {
   "cell_type": "code",
   "execution_count": 10,
   "id": "97236253",
   "metadata": {},
   "outputs": [
    {
     "data": {
      "text/plain": [
       "100654"
      ]
     },
     "execution_count": 10,
     "metadata": {},
     "output_type": "execute_result"
    }
   ],
   "source": [
    "len(gene_names)"
   ]
  },
  {
   "cell_type": "code",
   "execution_count": 11,
   "id": "31f6a86d",
   "metadata": {},
   "outputs": [
    {
     "data": {
      "text/plain": [
       "63822"
      ]
     },
     "execution_count": 11,
     "metadata": {},
     "output_type": "execute_result"
    }
   ],
   "source": [
    "len(protein_names)"
   ]
  },
  {
   "cell_type": "code",
   "execution_count": 13,
   "id": "e72309be",
   "metadata": {},
   "outputs": [],
   "source": [
    "pickle.dump(protein_names, open('../data/protein_names.pickle','wb'))\n",
    "\n",
    "pickle.dump(gene_names, open('../data/gene_names.pickle','wb'))\n",
    "\n",
    "pickle.dump(gene_protein_ids, open('../data/gene_protein_ids.pickle','wb'))"
   ]
  },
  {
   "cell_type": "code",
   "execution_count": null,
   "id": "4153a314",
   "metadata": {},
   "outputs": [],
   "source": []
  }
 ],
 "metadata": {
  "kernelspec": {
   "display_name": "Python [conda env:mesoderm]",
   "language": "python",
   "name": "conda-env-mesoderm-py"
  },
  "language_info": {
   "codemirror_mode": {
    "name": "ipython",
    "version": 3
   },
   "file_extension": ".py",
   "mimetype": "text/x-python",
   "name": "python",
   "nbconvert_exporter": "python",
   "pygments_lexer": "ipython3",
   "version": "3.10.4"
  }
 },
 "nbformat": 4,
 "nbformat_minor": 5
}
