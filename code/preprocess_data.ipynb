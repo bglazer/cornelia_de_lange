{
 "cells": [
  {
   "cell_type": "code",
   "execution_count": 26,
   "id": "3549d08d",
   "metadata": {},
   "outputs": [],
   "source": [
    "import pickle\n",
    "import numpy as np\n",
    "from matplotlib import pyplot as plt"
   ]
  },
  {
   "cell_type": "code",
   "execution_count": 2,
   "id": "a06c6ab4",
   "metadata": {},
   "outputs": [],
   "source": [
    "from collections import defaultdict"
   ]
  },
  {
   "cell_type": "code",
   "execution_count": 3,
   "id": "0d29a677",
   "metadata": {},
   "outputs": [],
   "source": [
    "gene_names = pickle.load(open('../data/gene_names.pickle','rb'))\n",
    "\n",
    "protein_names = pickle.load(open('../data/gene_names.pickle','rb'))"
   ]
  },
  {
   "cell_type": "code",
   "execution_count": 4,
   "id": "61b47be9",
   "metadata": {},
   "outputs": [],
   "source": [
    "graph_nodes = open('../data/connected_graph_nodes.csv')\n",
    "header = next(graph_nodes)\n",
    "nodes = set()\n",
    "for line in graph_nodes:\n",
    "    s=line.strip().split(',')\n",
    "    nodes.add((s[1],s[0]))"
   ]
  },
  {
   "cell_type": "code",
   "execution_count": 5,
   "id": "da9c8e8c",
   "metadata": {},
   "outputs": [
    {
     "name": "stdout",
     "output_type": "stream",
     "text": [
      "16273 7936\n"
     ]
    }
   ],
   "source": [
    "f = '../data/log1p-normalized-counts-mesoderm-wildtype.csv'\n",
    "datafile = open(f)\n",
    "r = !wc -l $f\n",
    "r = int(r[0].split()[0])\n",
    "# Get the number of cells (columns) in the data, subtract 1 because first row is gene name\n",
    "c = len(next(datafile).split(',')) - 1\n",
    "print(r,c)"
   ]
  },
  {
   "cell_type": "code",
   "execution_count": 15,
   "id": "086cf571",
   "metadata": {},
   "outputs": [],
   "source": [
    "datafile = open(f)\n",
    "header = next(datafile)\n",
    "names_to_graph_ids = defaultdict(list)\n",
    "data = []\n",
    "data_genes = []\n",
    "i=0\n",
    "for line in datafile:\n",
    "    s=line.strip().split(',')\n",
    "    gene = s[0].lstrip('\"').rstrip('\"')\n",
    "    gene = gene.upper()\n",
    "    if gene in gene_names:\n",
    "        gene_ids = gene_names[gene]\n",
    "        for gene_id in gene_ids:\n",
    "            gene_id = ('gene', gene_id)\n",
    "            if gene_id in nodes:\n",
    "                names_to_graph_ids[gene].append(gene_id)\n",
    "                values = [float(x) for x in s[1:]]\n",
    "                data_genes.append(gene_id)\n",
    "                data.append(values)\n",
    "                i += 1\n",
    "                \n",
    "        protein_ids = protein_names[gene]\n",
    "        for protein_id in protein_ids:\n",
    "            protein_id = ('protein', protein_id)\n",
    "            if protein_id in nodes:\n",
    "                names_to_graph_ids[protein].append(protein_id)\n",
    "names_to_graph_ids = dict(names_to_graph_ids)"
   ]
  },
  {
   "cell_type": "code",
   "execution_count": 17,
   "id": "e592560f",
   "metadata": {},
   "outputs": [
    {
     "name": "stdout",
     "output_type": "stream",
     "text": [
      "19\n"
     ]
    }
   ],
   "source": [
    "in_graph_not_data = [x for x in nodes - set(data_genes) if x[0]=='gene']\n",
    "print(len(in_graph_not_data))"
   ]
  },
  {
   "cell_type": "code",
   "execution_count": 18,
   "id": "6a3a93d5",
   "metadata": {},
   "outputs": [
    {
     "name": "stdout",
     "output_type": "stream",
     "text": [
      "0\n"
     ]
    }
   ],
   "source": [
    "print(len(set(data_genes) - nodes))"
   ]
  },
  {
   "cell_type": "code",
   "execution_count": 19,
   "id": "e17e14ee",
   "metadata": {},
   "outputs": [],
   "source": [
    "data = np.array(data)"
   ]
  },
  {
   "cell_type": "code",
   "execution_count": 20,
   "id": "5cbc62ec",
   "metadata": {},
   "outputs": [
    {
     "data": {
      "text/plain": [
       "(498, 7936)"
      ]
     },
     "execution_count": 20,
     "metadata": {},
     "output_type": "execute_result"
    }
   ],
   "source": [
    "data.shape"
   ]
  },
  {
   "cell_type": "markdown",
   "id": "4f873e6b",
   "metadata": {},
   "source": [
    "## Number of nonzero measurements per gene"
   ]
  },
  {
   "cell_type": "code",
   "execution_count": 28,
   "id": "e545d62a",
   "metadata": {},
   "outputs": [
    {
     "data": {
      "image/png": "[encoded data removed]",
      "text/plain": [
       "<Figure size 432x288 with 1 Axes>"
      ]
     },
     "metadata": {
      "needs_background": "light"
     },
     "output_type": "display_data"
    }
   ],
   "source": [
    "plt.hist((data > 0).sum(axis=1), bins=50);"
   ]
  },
  {
   "cell_type": "code",
   "execution_count": 29,
   "id": "93d89120",
   "metadata": {},
   "outputs": [
    {
     "data": {
      "image/png": "[encoded data removed]",
      "text/plain": [
       "<Figure size 432x288 with 1 Axes>"
      ]
     },
     "metadata": {
      "needs_background": "light"
     },
     "output_type": "display_data"
    }
   ],
   "source": [
    "plt.hist((data > 0).sum(axis=0), bins=50);"
   ]
  },
  {
   "cell_type": "code",
   "execution_count": null,
   "id": "c39215c0",
   "metadata": {},
   "outputs": [],
   "source": []
  },
  {
   "cell_type": "code",
   "execution_count": null,
   "id": "1498d25c",
   "metadata": {},
   "outputs": [],
   "source": []
  }
 ],
 "metadata": {
  "kernelspec": {
   "display_name": "Python [conda env:mesoderm]",
   "language": "python",
   "name": "conda-env-mesoderm-py"
  },
  "language_info": {
   "codemirror_mode": {
    "name": "ipython",
    "version": 3
   },
   "file_extension": ".py",
   "mimetype": "text/x-python",
   "name": "python",
   "nbconvert_exporter": "python",
   "pygments_lexer": "ipython3",
   "version": "3.10.4"
  }
 },
 "nbformat": 4,
 "nbformat_minor": 5
}
